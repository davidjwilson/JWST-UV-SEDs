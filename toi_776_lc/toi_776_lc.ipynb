{
 "cells": [
  {
   "cell_type": "markdown",
   "id": "a1b43082-6787-4d1b-8092-f552fe2cf062",
   "metadata": {},
   "source": [
    "Parke having an issue with extracting light curves from the TOI 776 data"
   ]
  },
  {
   "cell_type": "code",
   "execution_count": 1,
   "id": "8b4ea6cb-3f40-4f08-87f4-2030b226dc41",
   "metadata": {
    "tags": []
   },
   "outputs": [
    {
     "name": "stderr",
     "output_type": "stream",
     "text": [
      "/home/david/anaconda3/envs/stenv/lib/python3.10/site-packages/stsci/tools/nmpfit.py:8: UserWarning: NMPFIT is deprecated - stsci.tools v 3.5 is the last version to contain it.\n",
      "  warnings.warn(\"NMPFIT is deprecated - stsci.tools v 3.5 is the last version to contain it.\")\n",
      "/home/david/anaconda3/envs/stenv/lib/python3.10/site-packages/stsci/tools/gfit.py:18: UserWarning: GFIT is deprecated - stsci.tools v 3.4.12 is the last version to contain it.Use astropy.modeling instead.\n",
      "  warnings.warn(\"GFIT is deprecated - stsci.tools v 3.4.12 is the last version to contain it.\"\n"
     ]
    },
    {
     "name": "stdout",
     "output_type": "stream",
     "text": [
      "The following tasks in the stistools package can be run with TEAL:\n",
      "   basic2d      calstis     ocrreject     wavecal        x1d          x2d\n"
     ]
    }
   ],
   "source": [
    "\n",
    "import numpy as np\n",
    "import matplotlib.pyplot as plt\n",
    "import glob\n",
    "import astropy.io.fits as fits\n",
    "import os\n",
    "import stistools\n",
    "import astropy.units as u\n",
    "\n",
    "\n",
    "\n",
    "%matplotlib inline\n",
    "from matplotlib import rcParams\n",
    "rcParams[\"figure.figsize\"] = (14, 5)\n",
    "rcParams[\"font.size\"] = 20"
   ]
  },
  {
   "cell_type": "code",
   "execution_count": 2,
   "id": "cb152ffb-43a3-410c-b46f-24fb014d1020",
   "metadata": {
    "tags": []
   },
   "outputs": [],
   "source": [
    "path = '/media/david/2tb_ext_hd/hddata/meats/hst/toi-776/'"
   ]
  },
  {
   "cell_type": "code",
   "execution_count": 3,
   "id": "a871a5e2-ee25-4946-9fce-e13c13de53dc",
   "metadata": {
    "tags": []
   },
   "outputs": [],
   "source": [
    "datapath = path  #path to the raw data\n",
    "outpath = 'output/' #where you want the output fits files to go"
   ]
  },
  {
   "cell_type": "code",
   "execution_count": 4,
   "id": "e7cabd6a-3212-4169-a9dd-625a6408dd21",
   "metadata": {
    "tags": []
   },
   "outputs": [
    {
     "data": {
      "text/plain": [
       "['/media/david/2tb_ext_hd/hddata/meats/hst/toi-776/oei103010_x1d.fits',\n",
       " '/media/david/2tb_ext_hd/hddata/meats/hst/toi-776/oeoo14010_x1d.fits',\n",
       " '/media/david/2tb_ext_hd/hddata/meats/hst/toi-776/oeoo14020_x1d.fits',\n",
       " '/media/david/2tb_ext_hd/hddata/meats/hst/toi-776/oeoo14030_x1d.fits',\n",
       " '/media/david/2tb_ext_hd/hddata/meats/hst/toi-776/oeoo40020_x1d.fits',\n",
       " '/media/david/2tb_ext_hd/hddata/meats/hst/toi-776/oeoo15010_x1d.fits',\n",
       " '/media/david/2tb_ext_hd/hddata/meats/hst/toi-776/oeoo16020_x1d.fits',\n",
       " '/media/david/2tb_ext_hd/hddata/meats/hst/toi-776/oeoo16030_x1d.fits',\n",
       " '/media/david/2tb_ext_hd/hddata/meats/hst/toi-776/oeoo15020_x1d.fits',\n",
       " '/media/david/2tb_ext_hd/hddata/meats/hst/toi-776/oeoo15030_x1d.fits',\n",
       " '/media/david/2tb_ext_hd/hddata/meats/hst/toi-776/oeoo16010_x1d.fits',\n",
       " '/media/david/2tb_ext_hd/hddata/meats/hst/toi-776/oei104010_x1d.fits',\n",
       " '/media/david/2tb_ext_hd/hddata/meats/hst/toi-776/oeoo39010_x1d.fits',\n",
       " '/media/david/2tb_ext_hd/hddata/meats/hst/toi-776/oeoo39020_x1d.fits',\n",
       " '/media/david/2tb_ext_hd/hddata/meats/hst/toi-776/oeoo39030_x1d.fits',\n",
       " '/media/david/2tb_ext_hd/hddata/meats/hst/toi-776/oeoo40010_x1d.fits']"
      ]
     },
     "execution_count": 4,
     "metadata": {},
     "output_type": "execute_result"
    }
   ],
   "source": [
    "x1ds = glob.glob('{}*x1d.fits'.format(datapath))\n",
    "x1ds"
   ]
  },
  {
   "cell_type": "code",
   "execution_count": null,
   "id": "73aa5465-3e9b-4a2e-815f-b175f9fcd3d0",
   "metadata": {},
   "outputs": [],
   "source": []
  },
  {
   "cell_type": "code",
   "execution_count": 5,
   "id": "a975ba90-6d44-40dd-a607-43bd8ca86188",
   "metadata": {
    "tags": []
   },
   "outputs": [],
   "source": [
    "root_check = 'oeoo39030'\n"
   ]
  },
  {
   "cell_type": "code",
   "execution_count": 7,
   "id": "0d05214c-1dfe-42b3-9872-be0786678094",
   "metadata": {
    "tags": []
   },
   "outputs": [
    {
     "data": {
      "text/plain": [
       "1"
      ]
     },
     "execution_count": 13,
     "metadata": {},
     "output_type": "execute_result"
    }
   ],
   "source": [
    "raw = '{}{}_raw.fits'.format(path, root_check)\n",
    "outname = '{}{}_{}s'.format(outpath, root_check, 'test')\n",
    "stistools.calstis.calstis(raw, outroot = outname, wavecal='{}{}_wav.fits'.format(datapath, root_check), \n",
    "                          trailer='{}_{}s_extract.trl'.format(root_check,'test'))"
   ]
  },
  {
   "cell_type": "code",
   "execution_count": null,
   "id": "f172c880-ddbb-4172-bbd9-11aaa19c4dd8",
   "metadata": {},
   "outputs": [],
   "source": []
  }
 ],
 "metadata": {
  "kernelspec": {
   "display_name": "Python 3 (ipykernel)",
   "language": "python",
   "name": "python3"
  },
  "language_info": {
   "codemirror_mode": {
    "name": "ipython",
    "version": 3
   },
   "file_extension": ".py",
   "mimetype": "text/x-python",
   "name": "python",
   "nbconvert_exporter": "python",
   "pygments_lexer": "ipython3",
   "version": "3.10.6"
  }
 },
 "nbformat": 4,
 "nbformat_minor": 5
}
