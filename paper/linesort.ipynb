{
 "cells": [
  {
   "cell_type": "markdown",
   "id": "3df4473d-5358-42c0-a168-7c09c7a68b6b",
   "metadata": {},
   "source": [
    "Sorting all the emmmison line measurements to make a table."
   ]
  },
  {
   "cell_type": "code",
   "execution_count": 2,
   "id": "e1342553-505b-4966-928c-d5d0aaeb6a0b",
   "metadata": {},
   "outputs": [],
   "source": [
    "import numpy as np\n",
    "import matplotlib.pyplot as plt\n",
    "import astropy.io.fits as fits\n",
    "import os\n",
    "import glob\n",
    "from astropy.table import Table\n",
    "from astropy.io import ascii\n",
    "import astropy.units as u\n",
    "import astropy.constants as const\n",
    "from astropy.modeling import models, fitting\n",
    "from scipy.interpolate import interp1d\n",
    "\n",
    "\n",
    "#matplotlib set up\n",
    "%matplotlib inline\n",
    "from matplotlib import rcParams\n",
    "rcParams[\"figure.figsize\"] = (14, 5)\n",
    "rcParams[\"font.size\"] = 20"
   ]
  },
  {
   "cell_type": "code",
   "execution_count": 6,
   "id": "5bc3ce9e-6fe6-4e08-8fe4-a267333979cb",
   "metadata": {},
   "outputs": [
    {
     "name": "stdout",
     "output_type": "stream",
     "text": [
      "['../linelists/toi-260.ecsv', '../linelists/toi-402.ecsv', '../linelists/eps_ind.ecsv', '../linelists/k2-141.ecsv', '../linelists/gj-4102.ecsv', '../linelists/hd-165341b-4.ecsv', '../linelists/wasp-166.ecsv', '../linelists/hd-165341b-2.ecsv', '../linelists/gj-341.ecsv', '../linelists/gj341_linelist.ecsv', '../linelists/wasp-121_lines.ecsv', '../linelists/toi-178.ecsv', '../linelists/hd-165341a.ecsv', '../linelists/toi-836.ecsv', '../linelists/hd-80606.ecsv', '../linelists/toi-421_lines.ecsv', '../linelists/toi-776_lines.ecsv', '../linelists/hd165341.ecsv', '../linelists/hd-165341b-3.ecsv', '../linelists/hd-165341b-1.ecsv', '../linelists/toi-776_lines_v2.ecsv', '../linelists/tau_ceti_lines.ecsv']\n",
      "22\n"
     ]
    }
   ],
   "source": [
    "linelists = glob.glob('../linelists/*.ecsv')\n",
    "print(linelists)\n",
    "print(len(linelists))"
   ]
  },
  {
   "cell_type": "code",
   "execution_count": 10,
   "id": "f59522c2-bc3a-4f97-85fe-18346b91545f",
   "metadata": {},
   "outputs": [
    {
     "name": "stdout",
     "output_type": "stream",
     "text": [
      "../linelists/toi-260.ecsv\n",
      "10\n",
      "../linelists/toi-402.ecsv\n",
      "20\n",
      "../linelists/eps_ind.ecsv\n",
      "34\n",
      "../linelists/k2-141.ecsv\n",
      "24\n",
      "../linelists/gj-4102.ecsv\n",
      "20\n",
      "../linelists/hd-165341b-4.ecsv\n",
      "29\n",
      "../linelists/wasp-166.ecsv\n",
      "20\n",
      "../linelists/hd-165341b-2.ecsv\n",
      "29\n",
      "../linelists/gj-341.ecsv\n",
      "../linelists/gj341_linelist.ecsv\n"
     ]
    },
    {
     "ename": "InconsistentTableError",
     "evalue": "unable to parse yaml in meta header",
     "output_type": "error",
     "traceback": [
      "\u001b[31m---------------------------------------------------------------------------\u001b[39m",
      "\u001b[31mScannerError\u001b[39m                              Traceback (most recent call last)",
      "\u001b[36mFile \u001b[39m\u001b[32m~/micromamba/envs/stenv/lib/python3.12/site-packages/astropy/table/meta.py:417\u001b[39m, in \u001b[36mget_header_from_yaml\u001b[39m\u001b[34m(lines)\u001b[39m\n\u001b[32m    416\u001b[39m \u001b[38;5;28;01mtry\u001b[39;00m:\n\u001b[32m--> \u001b[39m\u001b[32m417\u001b[39m     header = \u001b[43myaml\u001b[49m\u001b[43m.\u001b[49m\u001b[43mload\u001b[49m\u001b[43m(\u001b[49m\u001b[43mheader_yaml\u001b[49m\u001b[43m,\u001b[49m\u001b[43m \u001b[49m\u001b[43mLoader\u001b[49m\u001b[43m=\u001b[49m\u001b[43mTableLoader\u001b[49m\u001b[43m)\u001b[49m\n\u001b[32m    418\u001b[39m \u001b[38;5;28;01mexcept\u001b[39;00m \u001b[38;5;167;01mException\u001b[39;00m \u001b[38;5;28;01mas\u001b[39;00m err:\n",
      "\u001b[36mFile \u001b[39m\u001b[32m~/micromamba/envs/stenv/lib/python3.12/site-packages/yaml/__init__.py:81\u001b[39m, in \u001b[36mload\u001b[39m\u001b[34m(stream, Loader)\u001b[39m\n\u001b[32m     80\u001b[39m \u001b[38;5;28;01mtry\u001b[39;00m:\n\u001b[32m---> \u001b[39m\u001b[32m81\u001b[39m     \u001b[38;5;28;01mreturn\u001b[39;00m \u001b[43mloader\u001b[49m\u001b[43m.\u001b[49m\u001b[43mget_single_data\u001b[49m\u001b[43m(\u001b[49m\u001b[43m)\u001b[49m\n\u001b[32m     82\u001b[39m \u001b[38;5;28;01mfinally\u001b[39;00m:\n",
      "\u001b[36mFile \u001b[39m\u001b[32m~/micromamba/envs/stenv/lib/python3.12/site-packages/yaml/constructor.py:49\u001b[39m, in \u001b[36mBaseConstructor.get_single_data\u001b[39m\u001b[34m(self)\u001b[39m\n\u001b[32m     47\u001b[39m \u001b[38;5;28;01mdef\u001b[39;00m\u001b[38;5;250m \u001b[39m\u001b[34mget_single_data\u001b[39m(\u001b[38;5;28mself\u001b[39m):\n\u001b[32m     48\u001b[39m     \u001b[38;5;66;03m# Ensure that the stream contains a single document and construct it.\u001b[39;00m\n\u001b[32m---> \u001b[39m\u001b[32m49\u001b[39m     node = \u001b[38;5;28;43mself\u001b[39;49m\u001b[43m.\u001b[49m\u001b[43mget_single_node\u001b[49m\u001b[43m(\u001b[49m\u001b[43m)\u001b[49m\n\u001b[32m     50\u001b[39m     \u001b[38;5;28;01mif\u001b[39;00m node \u001b[38;5;129;01mis\u001b[39;00m \u001b[38;5;129;01mnot\u001b[39;00m \u001b[38;5;28;01mNone\u001b[39;00m:\n",
      "\u001b[36mFile \u001b[39m\u001b[32m~/micromamba/envs/stenv/lib/python3.12/site-packages/yaml/composer.py:36\u001b[39m, in \u001b[36mComposer.get_single_node\u001b[39m\u001b[34m(self)\u001b[39m\n\u001b[32m     35\u001b[39m \u001b[38;5;28;01mif\u001b[39;00m \u001b[38;5;129;01mnot\u001b[39;00m \u001b[38;5;28mself\u001b[39m.check_event(StreamEndEvent):\n\u001b[32m---> \u001b[39m\u001b[32m36\u001b[39m     document = \u001b[38;5;28;43mself\u001b[39;49m\u001b[43m.\u001b[49m\u001b[43mcompose_document\u001b[49m\u001b[43m(\u001b[49m\u001b[43m)\u001b[49m\n\u001b[32m     38\u001b[39m \u001b[38;5;66;03m# Ensure that the stream contains no more documents.\u001b[39;00m\n",
      "\u001b[36mFile \u001b[39m\u001b[32m~/micromamba/envs/stenv/lib/python3.12/site-packages/yaml/composer.py:55\u001b[39m, in \u001b[36mComposer.compose_document\u001b[39m\u001b[34m(self)\u001b[39m\n\u001b[32m     54\u001b[39m \u001b[38;5;66;03m# Compose the root node.\u001b[39;00m\n\u001b[32m---> \u001b[39m\u001b[32m55\u001b[39m node = \u001b[38;5;28;43mself\u001b[39;49m\u001b[43m.\u001b[49m\u001b[43mcompose_node\u001b[49m\u001b[43m(\u001b[49m\u001b[38;5;28;43;01mNone\u001b[39;49;00m\u001b[43m,\u001b[49m\u001b[43m \u001b[49m\u001b[38;5;28;43;01mNone\u001b[39;49;00m\u001b[43m)\u001b[49m\n\u001b[32m     57\u001b[39m \u001b[38;5;66;03m# Drop the DOCUMENT-END event.\u001b[39;00m\n",
      "\u001b[36mFile \u001b[39m\u001b[32m~/micromamba/envs/stenv/lib/python3.12/site-packages/yaml/composer.py:84\u001b[39m, in \u001b[36mComposer.compose_node\u001b[39m\u001b[34m(self, parent, index)\u001b[39m\n\u001b[32m     83\u001b[39m \u001b[38;5;28;01melif\u001b[39;00m \u001b[38;5;28mself\u001b[39m.check_event(MappingStartEvent):\n\u001b[32m---> \u001b[39m\u001b[32m84\u001b[39m     node = \u001b[38;5;28;43mself\u001b[39;49m\u001b[43m.\u001b[49m\u001b[43mcompose_mapping_node\u001b[49m\u001b[43m(\u001b[49m\u001b[43manchor\u001b[49m\u001b[43m)\u001b[49m\n\u001b[32m     85\u001b[39m \u001b[38;5;28mself\u001b[39m.ascend_resolver()\n",
      "\u001b[36mFile \u001b[39m\u001b[32m~/micromamba/envs/stenv/lib/python3.12/site-packages/yaml/composer.py:127\u001b[39m, in \u001b[36mComposer.compose_mapping_node\u001b[39m\u001b[34m(self, anchor)\u001b[39m\n\u001b[32m    126\u001b[39m     \u001b[38;5;28mself\u001b[39m.anchors[anchor] = node\n\u001b[32m--> \u001b[39m\u001b[32m127\u001b[39m \u001b[38;5;28;01mwhile\u001b[39;00m \u001b[38;5;129;01mnot\u001b[39;00m \u001b[38;5;28;43mself\u001b[39;49m\u001b[43m.\u001b[49m\u001b[43mcheck_event\u001b[49m\u001b[43m(\u001b[49m\u001b[43mMappingEndEvent\u001b[49m\u001b[43m)\u001b[49m:\n\u001b[32m    128\u001b[39m     \u001b[38;5;66;03m#key_event = self.peek_event()\u001b[39;00m\n\u001b[32m    129\u001b[39m     item_key = \u001b[38;5;28mself\u001b[39m.compose_node(node, \u001b[38;5;28;01mNone\u001b[39;00m)\n",
      "\u001b[36mFile \u001b[39m\u001b[32m~/micromamba/envs/stenv/lib/python3.12/site-packages/yaml/parser.py:98\u001b[39m, in \u001b[36mParser.check_event\u001b[39m\u001b[34m(self, *choices)\u001b[39m\n\u001b[32m     97\u001b[39m     \u001b[38;5;28;01mif\u001b[39;00m \u001b[38;5;28mself\u001b[39m.state:\n\u001b[32m---> \u001b[39m\u001b[32m98\u001b[39m         \u001b[38;5;28mself\u001b[39m.current_event = \u001b[38;5;28;43mself\u001b[39;49m\u001b[43m.\u001b[49m\u001b[43mstate\u001b[49m\u001b[43m(\u001b[49m\u001b[43m)\u001b[49m\n\u001b[32m     99\u001b[39m \u001b[38;5;28;01mif\u001b[39;00m \u001b[38;5;28mself\u001b[39m.current_event \u001b[38;5;129;01mis\u001b[39;00m \u001b[38;5;129;01mnot\u001b[39;00m \u001b[38;5;28;01mNone\u001b[39;00m:\n",
      "\u001b[36mFile \u001b[39m\u001b[32m~/micromamba/envs/stenv/lib/python3.12/site-packages/yaml/parser.py:428\u001b[39m, in \u001b[36mParser.parse_block_mapping_key\u001b[39m\u001b[34m(self)\u001b[39m\n\u001b[32m    427\u001b[39m \u001b[38;5;28;01mdef\u001b[39;00m\u001b[38;5;250m \u001b[39m\u001b[34mparse_block_mapping_key\u001b[39m(\u001b[38;5;28mself\u001b[39m):\n\u001b[32m--> \u001b[39m\u001b[32m428\u001b[39m     \u001b[38;5;28;01mif\u001b[39;00m \u001b[38;5;28;43mself\u001b[39;49m\u001b[43m.\u001b[49m\u001b[43mcheck_token\u001b[49m\u001b[43m(\u001b[49m\u001b[43mKeyToken\u001b[49m\u001b[43m)\u001b[49m:\n\u001b[32m    429\u001b[39m         token = \u001b[38;5;28mself\u001b[39m.get_token()\n",
      "\u001b[36mFile \u001b[39m\u001b[32m~/micromamba/envs/stenv/lib/python3.12/site-packages/yaml/scanner.py:115\u001b[39m, in \u001b[36mScanner.check_token\u001b[39m\u001b[34m(self, *choices)\u001b[39m\n\u001b[32m    113\u001b[39m \u001b[38;5;28;01mdef\u001b[39;00m\u001b[38;5;250m \u001b[39m\u001b[34mcheck_token\u001b[39m(\u001b[38;5;28mself\u001b[39m, *choices):\n\u001b[32m    114\u001b[39m     \u001b[38;5;66;03m# Check if the next token is one of the given types.\u001b[39;00m\n\u001b[32m--> \u001b[39m\u001b[32m115\u001b[39m     \u001b[38;5;28;01mwhile\u001b[39;00m \u001b[38;5;28;43mself\u001b[39;49m\u001b[43m.\u001b[49m\u001b[43mneed_more_tokens\u001b[49m\u001b[43m(\u001b[49m\u001b[43m)\u001b[49m:\n\u001b[32m    116\u001b[39m         \u001b[38;5;28mself\u001b[39m.fetch_more_tokens()\n",
      "\u001b[36mFile \u001b[39m\u001b[32m~/micromamba/envs/stenv/lib/python3.12/site-packages/yaml/scanner.py:152\u001b[39m, in \u001b[36mScanner.need_more_tokens\u001b[39m\u001b[34m(self)\u001b[39m\n\u001b[32m    150\u001b[39m \u001b[38;5;66;03m# The current token may be a potential simple key, so we\u001b[39;00m\n\u001b[32m    151\u001b[39m \u001b[38;5;66;03m# need to look further.\u001b[39;00m\n\u001b[32m--> \u001b[39m\u001b[32m152\u001b[39m \u001b[38;5;28;43mself\u001b[39;49m\u001b[43m.\u001b[49m\u001b[43mstale_possible_simple_keys\u001b[49m\u001b[43m(\u001b[49m\u001b[43m)\u001b[49m\n\u001b[32m    153\u001b[39m \u001b[38;5;28;01mif\u001b[39;00m \u001b[38;5;28mself\u001b[39m.next_possible_simple_key() == \u001b[38;5;28mself\u001b[39m.tokens_taken:\n",
      "\u001b[36mFile \u001b[39m\u001b[32m~/micromamba/envs/stenv/lib/python3.12/site-packages/yaml/scanner.py:291\u001b[39m, in \u001b[36mScanner.stale_possible_simple_keys\u001b[39m\u001b[34m(self)\u001b[39m\n\u001b[32m    290\u001b[39m \u001b[38;5;28;01mif\u001b[39;00m key.required:\n\u001b[32m--> \u001b[39m\u001b[32m291\u001b[39m     \u001b[38;5;28;01mraise\u001b[39;00m ScannerError(\u001b[33m\"\u001b[39m\u001b[33mwhile scanning a simple key\u001b[39m\u001b[33m\"\u001b[39m, key.mark,\n\u001b[32m    292\u001b[39m             \u001b[33m\"\u001b[39m\u001b[33mcould not find expected \u001b[39m\u001b[33m'\u001b[39m\u001b[33m:\u001b[39m\u001b[33m'\u001b[39m\u001b[33m\"\u001b[39m, \u001b[38;5;28mself\u001b[39m.get_mark())\n\u001b[32m    293\u001b[39m \u001b[38;5;28;01mdel\u001b[39;00m \u001b[38;5;28mself\u001b[39m.possible_simple_keys[level]\n",
      "\u001b[31mScannerError\u001b[39m: while scanning a simple key\n  in \"<unicode string>\", line 10, column 1:\n    FILENAME = 'hlsp_muscles_hst_cos ... \n    ^\ncould not find expected ':'\n  in \"<unicode string>\", line 11, column 1:\n    FILETYPE = 'SCI'\n    ^",
      "\nThe above exception was the direct cause of the following exception:\n",
      "\u001b[31mYamlParseError\u001b[39m                            Traceback (most recent call last)",
      "\u001b[36mFile \u001b[39m\u001b[32m~/micromamba/envs/stenv/lib/python3.12/site-packages/astropy/io/ascii/ecsv.py:157\u001b[39m, in \u001b[36mEcsvHeader.get_cols\u001b[39m\u001b[34m(self, lines)\u001b[39m\n\u001b[32m    156\u001b[39m \u001b[38;5;28;01mtry\u001b[39;00m:\n\u001b[32m--> \u001b[39m\u001b[32m157\u001b[39m     header = \u001b[43mmeta\u001b[49m\u001b[43m.\u001b[49m\u001b[43mget_header_from_yaml\u001b[49m\u001b[43m(\u001b[49m\u001b[43mlines\u001b[49m\u001b[43m)\u001b[49m\n\u001b[32m    158\u001b[39m \u001b[38;5;28;01mexcept\u001b[39;00m meta.YamlParseError \u001b[38;5;28;01mas\u001b[39;00m e:\n",
      "\u001b[36mFile \u001b[39m\u001b[32m~/micromamba/envs/stenv/lib/python3.12/site-packages/astropy/table/meta.py:419\u001b[39m, in \u001b[36mget_header_from_yaml\u001b[39m\u001b[34m(lines)\u001b[39m\n\u001b[32m    418\u001b[39m \u001b[38;5;28;01mexcept\u001b[39;00m \u001b[38;5;167;01mException\u001b[39;00m \u001b[38;5;28;01mas\u001b[39;00m err:\n\u001b[32m--> \u001b[39m\u001b[32m419\u001b[39m     \u001b[38;5;28;01mraise\u001b[39;00m YamlParseError() \u001b[38;5;28;01mfrom\u001b[39;00m\u001b[38;5;250m \u001b[39m\u001b[34;01merr\u001b[39;00m\n\u001b[32m    421\u001b[39m \u001b[38;5;28;01mreturn\u001b[39;00m header\n",
      "\u001b[31mYamlParseError\u001b[39m: ",
      "\nThe above exception was the direct cause of the following exception:\n",
      "\u001b[31mInconsistentTableError\u001b[39m                    Traceback (most recent call last)",
      "\u001b[36mCell\u001b[39m\u001b[36m \u001b[39m\u001b[32mIn[10]\u001b[39m\u001b[32m, line 4\u001b[39m\n\u001b[32m      2\u001b[39m \u001b[38;5;28mprint\u001b[39m(linelist)\n\u001b[32m      3\u001b[39m \u001b[38;5;28;01mif\u001b[39;00m linelist != \u001b[33m'\u001b[39m\u001b[33m../linelists/gj-341.ecsv\u001b[39m\u001b[33m'\u001b[39m:\n\u001b[32m----> \u001b[39m\u001b[32m4\u001b[39m     ll=\u001b[43mTable\u001b[49m\u001b[43m.\u001b[49m\u001b[43mread\u001b[49m\u001b[43m(\u001b[49m\u001b[43mlinelist\u001b[49m\u001b[43m)\u001b[49m\n\u001b[32m      5\u001b[39m     \u001b[38;5;28mprint\u001b[39m(\u001b[38;5;28mlen\u001b[39m(ll))\n",
      "\u001b[36mFile \u001b[39m\u001b[32m~/micromamba/envs/stenv/lib/python3.12/site-packages/astropy/table/connect.py:62\u001b[39m, in \u001b[36mTableRead.__call__\u001b[39m\u001b[34m(self, *args, **kwargs)\u001b[39m\n\u001b[32m     59\u001b[39m units = kwargs.pop(\u001b[33m\"\u001b[39m\u001b[33munits\u001b[39m\u001b[33m\"\u001b[39m, \u001b[38;5;28;01mNone\u001b[39;00m)\n\u001b[32m     60\u001b[39m descriptions = kwargs.pop(\u001b[33m\"\u001b[39m\u001b[33mdescriptions\u001b[39m\u001b[33m\"\u001b[39m, \u001b[38;5;28;01mNone\u001b[39;00m)\n\u001b[32m---> \u001b[39m\u001b[32m62\u001b[39m out = \u001b[38;5;28;43mself\u001b[39;49m\u001b[43m.\u001b[49m\u001b[43mregistry\u001b[49m\u001b[43m.\u001b[49m\u001b[43mread\u001b[49m\u001b[43m(\u001b[49m\u001b[38;5;28;43mcls\u001b[39;49m\u001b[43m,\u001b[49m\u001b[43m \u001b[49m\u001b[43m*\u001b[49m\u001b[43margs\u001b[49m\u001b[43m,\u001b[49m\u001b[43m \u001b[49m\u001b[43m*\u001b[49m\u001b[43m*\u001b[49m\u001b[43mkwargs\u001b[49m\u001b[43m)\u001b[49m\n\u001b[32m     64\u001b[39m \u001b[38;5;66;03m# For some readers (e.g., ascii.ecsv), the returned `out` class is not\u001b[39;00m\n\u001b[32m     65\u001b[39m \u001b[38;5;66;03m# guaranteed to be the same as the desired output `cls`.  If so,\u001b[39;00m\n\u001b[32m     66\u001b[39m \u001b[38;5;66;03m# try coercing to desired class without copying (io.registry.read\u001b[39;00m\n\u001b[32m     67\u001b[39m \u001b[38;5;66;03m# would normally do a copy).  The normal case here is swapping\u001b[39;00m\n\u001b[32m     68\u001b[39m \u001b[38;5;66;03m# Table <=> QTable.\u001b[39;00m\n\u001b[32m     69\u001b[39m \u001b[38;5;28;01mif\u001b[39;00m \u001b[38;5;28mcls\u001b[39m \u001b[38;5;129;01mis\u001b[39;00m \u001b[38;5;129;01mnot\u001b[39;00m out.\u001b[34m__class__\u001b[39m:\n",
      "\u001b[36mFile \u001b[39m\u001b[32m~/micromamba/envs/stenv/lib/python3.12/site-packages/astropy/io/registry/core.py:221\u001b[39m, in \u001b[36mUnifiedInputRegistry.read\u001b[39m\u001b[34m(self, cls, format, cache, *args, **kwargs)\u001b[39m\n\u001b[32m    218\u001b[39m         kwargs.update({\u001b[33m\"\u001b[39m\u001b[33mfilename\u001b[39m\u001b[33m\"\u001b[39m: path})\n\u001b[32m    220\u001b[39m reader = \u001b[38;5;28mself\u001b[39m.get_reader(\u001b[38;5;28mformat\u001b[39m, \u001b[38;5;28mcls\u001b[39m)\n\u001b[32m--> \u001b[39m\u001b[32m221\u001b[39m data = \u001b[43mreader\u001b[49m\u001b[43m(\u001b[49m\u001b[43m*\u001b[49m\u001b[43margs\u001b[49m\u001b[43m,\u001b[49m\u001b[43m \u001b[49m\u001b[43m*\u001b[49m\u001b[43m*\u001b[49m\u001b[43mkwargs\u001b[49m\u001b[43m)\u001b[49m\n\u001b[32m    223\u001b[39m \u001b[38;5;28;01mif\u001b[39;00m \u001b[38;5;129;01mnot\u001b[39;00m \u001b[38;5;28misinstance\u001b[39m(data, \u001b[38;5;28mcls\u001b[39m):\n\u001b[32m    224\u001b[39m     \u001b[38;5;66;03m# User has read with a subclass where only the parent class is\u001b[39;00m\n\u001b[32m    225\u001b[39m     \u001b[38;5;66;03m# registered.  This returns the parent class, so try coercing\u001b[39;00m\n\u001b[32m    226\u001b[39m     \u001b[38;5;66;03m# to desired subclass.\u001b[39;00m\n\u001b[32m    227\u001b[39m     \u001b[38;5;28;01mtry\u001b[39;00m:\n",
      "\u001b[36mFile \u001b[39m\u001b[32m~/micromamba/envs/stenv/lib/python3.12/site-packages/astropy/io/ascii/connect.py:19\u001b[39m, in \u001b[36mio_read\u001b[39m\u001b[34m(format, filename, **kwargs)\u001b[39m\n\u001b[32m     17\u001b[39m     \u001b[38;5;28mformat\u001b[39m = re.sub(\u001b[33mr\u001b[39m\u001b[33m\"\u001b[39m\u001b[33m^ascii\u001b[39m\u001b[33m\\\u001b[39m\u001b[33m.\u001b[39m\u001b[33m\"\u001b[39m, \u001b[33m\"\u001b[39m\u001b[33m\"\u001b[39m, \u001b[38;5;28mformat\u001b[39m)\n\u001b[32m     18\u001b[39m     kwargs[\u001b[33m\"\u001b[39m\u001b[33mformat\u001b[39m\u001b[33m\"\u001b[39m] = \u001b[38;5;28mformat\u001b[39m\n\u001b[32m---> \u001b[39m\u001b[32m19\u001b[39m \u001b[38;5;28;01mreturn\u001b[39;00m \u001b[43mread\u001b[49m\u001b[43m(\u001b[49m\u001b[43mfilename\u001b[49m\u001b[43m,\u001b[49m\u001b[43m \u001b[49m\u001b[43m*\u001b[49m\u001b[43m*\u001b[49m\u001b[43mkwargs\u001b[49m\u001b[43m)\u001b[49m\n",
      "\u001b[36mFile \u001b[39m\u001b[32m~/micromamba/envs/stenv/lib/python3.12/site-packages/astropy/io/ascii/ui.py:488\u001b[39m, in \u001b[36mread\u001b[39m\u001b[34m(table, guess, **kwargs)\u001b[39m\n\u001b[32m    486\u001b[39m     \u001b[38;5;28;01melse\u001b[39;00m:\n\u001b[32m    487\u001b[39m         reader = get_reader(**new_kwargs)\n\u001b[32m--> \u001b[39m\u001b[32m488\u001b[39m         dat = \u001b[43mreader\u001b[49m\u001b[43m.\u001b[49m\u001b[43mread\u001b[49m\u001b[43m(\u001b[49m\u001b[43mtable\u001b[49m\u001b[43m)\u001b[49m\n\u001b[32m    489\u001b[39m         _read_trace.append(\n\u001b[32m    490\u001b[39m             {\n\u001b[32m    491\u001b[39m                 \u001b[33m\"\u001b[39m\u001b[33mkwargs\u001b[39m\u001b[33m\"\u001b[39m: copy.deepcopy(new_kwargs),\n\u001b[32m   (...)\u001b[39m\u001b[32m    494\u001b[39m             }\n\u001b[32m    495\u001b[39m         )\n\u001b[32m    497\u001b[39m \u001b[38;5;66;03m# Static analysis (pyright) indicates `dat` might be left undefined, so just\u001b[39;00m\n\u001b[32m    498\u001b[39m \u001b[38;5;66;03m# to be sure define it at the beginning and check here.\u001b[39;00m\n",
      "\u001b[36mFile \u001b[39m\u001b[32m~/micromamba/envs/stenv/lib/python3.12/site-packages/astropy/io/ascii/core.py:1438\u001b[39m, in \u001b[36mBaseReader.read\u001b[39m\u001b[34m(self, table)\u001b[39m\n\u001b[32m   1435\u001b[39m \u001b[38;5;28mself\u001b[39m.header.update_meta(\u001b[38;5;28mself\u001b[39m.lines, \u001b[38;5;28mself\u001b[39m.meta)\n\u001b[32m   1437\u001b[39m \u001b[38;5;66;03m# Get the table column definitions\u001b[39;00m\n\u001b[32m-> \u001b[39m\u001b[32m1438\u001b[39m \u001b[38;5;28;43mself\u001b[39;49m\u001b[43m.\u001b[49m\u001b[43mheader\u001b[49m\u001b[43m.\u001b[49m\u001b[43mget_cols\u001b[49m\u001b[43m(\u001b[49m\u001b[38;5;28;43mself\u001b[39;49m\u001b[43m.\u001b[49m\u001b[43mlines\u001b[49m\u001b[43m)\u001b[49m\n\u001b[32m   1440\u001b[39m \u001b[38;5;66;03m# Make sure columns are valid\u001b[39;00m\n\u001b[32m   1441\u001b[39m \u001b[38;5;28mself\u001b[39m.header.check_column_names(\u001b[38;5;28mself\u001b[39m.names, \u001b[38;5;28mself\u001b[39m.strict_names, \u001b[38;5;28mself\u001b[39m.guessing)\n",
      "\u001b[36mFile \u001b[39m\u001b[32m~/micromamba/envs/stenv/lib/python3.12/site-packages/astropy/io/ascii/ecsv.py:159\u001b[39m, in \u001b[36mEcsvHeader.get_cols\u001b[39m\u001b[34m(self, lines)\u001b[39m\n\u001b[32m    157\u001b[39m     header = meta.get_header_from_yaml(lines)\n\u001b[32m    158\u001b[39m \u001b[38;5;28;01mexcept\u001b[39;00m meta.YamlParseError \u001b[38;5;28;01mas\u001b[39;00m e:\n\u001b[32m--> \u001b[39m\u001b[32m159\u001b[39m     \u001b[38;5;28;01mraise\u001b[39;00m core.InconsistentTableError(\n\u001b[32m    160\u001b[39m         \u001b[33m\"\u001b[39m\u001b[33munable to parse yaml in meta header\u001b[39m\u001b[33m\"\u001b[39m\n\u001b[32m    161\u001b[39m     ) \u001b[38;5;28;01mfrom\u001b[39;00m\u001b[38;5;250m \u001b[39m\u001b[34;01me\u001b[39;00m\n\u001b[32m    163\u001b[39m \u001b[38;5;28;01mif\u001b[39;00m \u001b[33m\"\u001b[39m\u001b[33mmeta\u001b[39m\u001b[33m\"\u001b[39m \u001b[38;5;129;01min\u001b[39;00m header:\n\u001b[32m    164\u001b[39m     \u001b[38;5;28mself\u001b[39m.table_meta = header[\u001b[33m\"\u001b[39m\u001b[33mmeta\u001b[39m\u001b[33m\"\u001b[39m]\n",
      "\u001b[31mInconsistentTableError\u001b[39m: unable to parse yaml in meta header"
     ]
    }
   ],
   "source": [
    "for linelist in linelists:\n",
    "    print(linelist)\n",
    "    if linelist != '../linelists/gj-341.ecsv':\n",
    "        ll=Table.read(linelist)\n",
    "        print(len(ll))"
   ]
  },
  {
   "cell_type": "code",
   "execution_count": null,
   "id": "2d417a24-a19b-44aa-a868-1fd06697ff36",
   "metadata": {},
   "outputs": [],
   "source": []
  }
 ],
 "metadata": {
  "kernelspec": {
   "display_name": "Python 3 (ipykernel)",
   "language": "python",
   "name": "python3"
  },
  "language_info": {
   "codemirror_mode": {
    "name": "ipython",
    "version": 3
   },
   "file_extension": ".py",
   "mimetype": "text/x-python",
   "name": "python",
   "nbconvert_exporter": "python",
   "pygments_lexer": "ipython3",
   "version": "3.12.12"
  }
 },
 "nbformat": 4,
 "nbformat_minor": 5
}
