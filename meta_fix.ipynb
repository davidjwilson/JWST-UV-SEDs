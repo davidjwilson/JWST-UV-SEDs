{
 "cells": [
  {
   "cell_type": "markdown",
   "id": "907c7486-592d-4a77-ba1d-42b9ed9e2965",
   "metadata": {},
   "source": [
    "Updating the SED files for MEATS to newer MAST standards"
   ]
  },
  {
   "cell_type": "code",
   "execution_count": 2,
   "id": "e11e3f52-2aa8-4db5-9396-5d0af82acd27",
   "metadata": {},
   "outputs": [],
   "source": [
    "import numpy as np\n",
    "import matplotlib.pyplot as plt\n",
    "import astropy.io.fits as fits\n",
    "import os\n",
    "import glob\n",
    "from astropy.table import Table\n",
    "from astropy.io import ascii\n",
    "from astropy.convolution import convolve, Box1DKernel\n",
    "from scipy.interpolate import interp1d\n",
    "\n",
    "import astropy.units as u\n",
    "from astropy import time, coordinates as coord\n",
    "import astropy.constants as const\n",
    "from astropy.modeling import models, fitting\n",
    "from astropy.coordinates import SkyCoord\n",
    "from matplotlib.gridspec import GridSpec\n",
    "from datetime import datetime\n",
    "from astroquery.simbad import Simbad\n",
    "\n",
    "#matplotlib set up\n",
    "%matplotlib inline\n",
    "from matplotlib import rcParams\n",
    "rcParams[\"figure.figsize\"] = (14, 5)\n",
    "rcParams[\"font.size\"] = 20"
   ]
  },
  {
   "cell_type": "code",
   "execution_count": 3,
   "id": "dfe69efa-49b5-4733-8a53-2cab3a7bebff",
   "metadata": {},
   "outputs": [],
   "source": [
    "oldv = 1\n",
    "version = 25"
   ]
  },
  {
   "cell_type": "markdown",
   "id": "28ac22e9-b03d-4a29-836d-885e2b5ef536",
   "metadata": {},
   "source": [
    "\n",
    "    STIS spectra\n",
    "\n",
    "DOI = ‘10.17909/T9DG6F’\n",
    "\n",
    "EQUINOX =’2000.2’ or RADESYS = 'ICRS'\n",
    "\n",
    "HLSPID =’MUSCLES’\n",
    "\n",
    "HLSPVER=’V1’\n",
    "\n",
    "LICENSE =’CC BY 4.0’\n",
    "\n",
    "LICENSURL= 'https://creativecommons.org/licenses/by/4.0/'\n",
    "\n",
    "TIMESYS: Character string code (see FITS Standard) for the time scale of time-related keywords. Ex: 'UTC'\n",
    "\n",
    " \n",
    "\n",
    "    Model spectra\n",
    "\n",
    "The same set of metadata is required as STIS data except for EQUINOX/RADESYS and TIMESYS.\n",
    "\n",
    " \n",
    "\n",
    "    SED data \n",
    "\n",
    "The same set of metadata is required as STIS data except for OBSERVAT.\n",
    "\n",
    "MJD-BEG and MJD-END in the primary header. (* see below)\n",
    "\n",
    " \n",
    "\n",
    "    XMM data\n",
    "\n",
    "The same set of metadata is required as STIS data.\n",
    "\n",
    "RA_TARG and DEC_TARG values are missing. Please include the correct RA/Dec values."
   ]
  },
  {
   "cell_type": "code",
   "execution_count": 4,
   "id": "5a6afe22-d187-4070-b5ce-395364b4ddaa",
   "metadata": {},
   "outputs": [
    {
     "name": "stdout",
     "output_type": "stream",
     "text": [
      "['toi-402']\n",
      "1\n"
     ]
    }
   ],
   "source": [
    "# stars = os.listdir('draft_hlsp/')\n",
    "stars = ['toi-402'] #just newer stars\n",
    "# print(stars)\n",
    "stars = np.array(stars)\n",
    "mask = stars != '.ipynb_checkpoints'\n",
    "# print(mask)\n",
    "stars = stars[mask]\n",
    "print(stars)\n",
    "print(len(stars))"
   ]
  },
  {
   "cell_type": "code",
   "execution_count": 5,
   "id": "831d1ac0-f418-4bc7-8f80-662cbac45a50",
   "metadata": {},
   "outputs": [
    {
     "data": {
      "text/html": [
       "<div><i>Table length=1</i>\n",
       "<table id=\"table131851312845904\" class=\"table-striped table-bordered table-condensed\">\n",
       "<thead><tr><th>MAIN_ID</th><th>RA</th><th>DEC</th><th>RA_PREC</th><th>DEC_PREC</th><th>COO_ERR_MAJA</th><th>COO_ERR_MINA</th><th>COO_ERR_ANGLE</th><th>COO_QUAL</th><th>COO_WAVELENGTH</th><th>COO_BIBCODE</th><th>SCRIPT_NUMBER_ID</th></tr></thead>\n",
       "<thead><tr><th></th><th>&quot;h:m:s&quot;</th><th>&quot;d:m:s&quot;</th><th></th><th></th><th>mas</th><th>mas</th><th>deg</th><th></th><th></th><th></th><th></th></tr></thead>\n",
       "<thead><tr><th>object</th><th>str13</th><th>str13</th><th>int16</th><th>int16</th><th>float32</th><th>float32</th><th>int16</th><th>str1</th><th>str1</th><th>object</th><th>int32</th></tr></thead>\n",
       "<tr><td>HD  15337</td><td>02 27 28.3781</td><td>-27 38 06.736</td><td>14</td><td>14</td><td>0.009</td><td>0.012</td><td>90</td><td>A</td><td>O</td><td>2020yCat.1350....0G</td><td>1</td></tr>\n",
       "</table></div>"
      ],
      "text/plain": [
       "<Table length=1>\n",
       " MAIN_ID        RA           DEC      ...     COO_BIBCODE     SCRIPT_NUMBER_ID\n",
       "             \"h:m:s\"       \"d:m:s\"    ...                                     \n",
       "  object      str13         str13     ...        object            int32      \n",
       "--------- ------------- ------------- ... ------------------- ----------------\n",
       "HD  15337 02 27 28.3781 -27 38 06.736 ... 2020yCat.1350....0G                1"
      ]
     },
     "execution_count": 5,
     "metadata": {},
     "output_type": "execute_result"
    }
   ],
   "source": [
    "star_list = Simbad.query_objects(stars)\n",
    "star_list"
   ]
  },
  {
   "cell_type": "code",
   "execution_count": null,
   "id": "b3592fd4-480c-4d64-bd10-d9fac013a77a",
   "metadata": {},
   "outputs": [],
   "source": [
    "\n"
   ]
  },
  {
   "cell_type": "code",
   "execution_count": 6,
   "id": "d659ef68-4f05-4b7e-b947-a298becbf00d",
   "metadata": {},
   "outputs": [
    {
     "name": "stdout",
     "output_type": "stream",
     "text": [
      "toi-402\n"
     ]
    }
   ],
   "source": [
    "\n",
    "newpath = 'fixed_hlsp/'\n",
    "for star in stars:\n",
    "    print(star)\n",
    "    newdir = '{}{}'.format(newpath, star)\n",
    "    if not os.path.exists(newdir):\n",
    "       os.makedirs(newdir)\n",
    "    \n",
    "    oldv = 1\n",
    "    if star == 'wasp-63':\n",
    "        oldv = 2\n",
    "    starpath = 'draft_hlsp/{}/'.format(star)\n",
    "    specs = np.hstack((glob.glob('{}*stis*.fits'.format(starpath)),glob.glob('{}*cos*.fits'.format(starpath))))\n",
    "    mods = glob.glob('{}*mod*.fits'.format(starpath))\n",
    "    seds = glob.glob('{}*multi*.fits'.format(starpath))\n",
    "    xrays = np.hstack((glob.glob('{}*cxo*.fits'.format(starpath)),glob.glob('{}*xmm*.fits'.format(starpath))))\n",
    "\n",
    "    # print(specs)\n",
    "    # print(mods)\n",
    "    # print(seds)\n",
    "    # print(xrays)\n",
    "    \n",
    "    \n",
    "    starts = []\n",
    "    ends = []\n",
    "\n",
    "    for spec in specs:\n",
    "        hdul = fits.open(spec)\n",
    "        hdr = hdul[0].header\n",
    "        ra, dec = hdr['RA_TARG'], hdr['DEC_TARG']\n",
    "        starts.append(hdr['EXPSTART'])\n",
    "        ends.append(hdr['EXPEND'])\n",
    "        hdr.append(('DOI', '10.17909/T9DG6F'))\n",
    "        hdr.append(('RADESYS' , 'ICRS'))\n",
    "        hdr.append(('TIMESYS', 'UTC'))\n",
    "        hdr.append(('HLSPVER', 'V{}'.format(version)))\n",
    "        hdr.append(('HSLPID', 'MUSCLES'))\n",
    "        hdr.append(('LICENSE','CC BY 4.0'))\n",
    "        hdr.append(('LICENURL', 'https://creativecommons.org/licenses/by/4.0/'))\n",
    "        new_name = (os.path.split(spec)[1]).replace('v{}'.format(oldv), 'v{}'.format(version))\n",
    "        savepath = '{}{}/{}'.format(newpath, star, new_name)\n",
    "        hdul.writeto(savepath, overwrite=True)\n",
    "    \n",
    "    for spec in mods:\n",
    "        hdul = fits.open(spec)\n",
    "        hdr = hdul[0].header\n",
    "        hdr.append(('DOI', '10.17909/T9DG6F'))\n",
    "        hdr.append(('HLSPVER', 'V{}'.format(version)))\n",
    "        hdr.append(('HSLPID', 'MUSCLES'))\n",
    "        hdr.append(('LICENSE','CC BY 4.0'))\n",
    "        hdr.append(('LICENURL', 'https://creativecommons.org/licenses/by/4.0/'))\n",
    "        new_name = (os.path.split(spec)[1]).replace('v{}'.format(oldv), 'v{}'.format(version))\n",
    "        savepath = '{}{}/{}'.format(newpath, star, new_name)\n",
    "        hdul.writeto(savepath, overwrite=True)\n",
    "    \n",
    "    for spec in xrays:\n",
    "        hdul = fits.open(spec)\n",
    "        hdr = hdul[0].header\n",
    "        starts.append(hdr['EXPSTART'])\n",
    "        ends.append(hdr['EXPEND'])\n",
    "        hdr.append(('RA_TARG', ra))\n",
    "        hdr.append(('DEC_TARG', dec))\n",
    "        hdr.append(('DOI', '10.17909/T9DG6F'))\n",
    "        hdr.append(('RADESYS' , 'ICRS'))\n",
    "        hdr.append(('TIMESYS', 'UTC'))\n",
    "        hdr.append(('HLSPVER', 'V{}'.format(version)))\n",
    "        hdr.append(('HSLPID', 'MUSCLES'))\n",
    "        hdr.append(('LICENSE','CC BY 4.0'))\n",
    "        hdr.append(('LICENURL', 'https://creativecommons.org/licenses/by/4.0/'))\n",
    "        new_name = (os.path.split(spec)[1]).replace('v{}'.format(oldv), 'v{}'.format(version))\n",
    "        savepath = '{}{}/{}'.format(newpath, star, new_name)\n",
    "        hdul.writeto(savepath, overwrite=True)\n",
    "    \n",
    "    start = np.min(starts)\n",
    "    end = np.max(ends)\n",
    "    \n",
    "    for spec in seds:\n",
    "        hdul = fits.open(spec)\n",
    "        hdr = hdul[0].header\n",
    "        hdr.append(('MJD-BEG', start))\n",
    "        hdr.append(('MJD-END', end))\n",
    "        hdr.append(('DOI', '10.17909/T9DG6F'))\n",
    "        hdr.append(('RADESYS' , 'ICRS'))\n",
    "        hdr.append(('TIMESYS', 'UTC'))\n",
    "        hdr.append(('HLSPVER', 'V{}'.format(version)))\n",
    "        hdr.append(('HSLPID', 'MUSCLES'))\n",
    "        hdr.append(('LICENSE','CC BY 4.0'))\n",
    "        hdr.append(('LICENURL', 'https://creativecommons.org/licenses/by/4.0/'))\n",
    "        new_name = (os.path.split(spec)[1]).replace('v{}'.format(oldv), 'v{}'.format(version))\n",
    "        for i in hdr:\n",
    "            if hdr[i] in ['mod', 'Mod', 'MOD']:\n",
    "                hdr[i] = 'MODEL'\n",
    "        starname = hdr['TARGNAME']\n",
    "        if starname[0:2].upper() == 'HD':\n",
    "            starname = starname.replace('-', ' ')\n",
    "        elif starname == 'kap1Cet':\n",
    "            starname = '*kap01 Cet'\n",
    "        simtab = Simbad.query_object(starname)\n",
    "        coords = SkyCoord(simtab['RA'][0], simtab['DEC'][0], unit=(u.hourangle, u.deg))\n",
    "\n",
    "        hdr['RA_TARG'] = coords.ra.deg\n",
    "        hdr['DEC_TARG'] = coords.dec.deg\n",
    "        \n",
    "      \n",
    "        savepath = '{}{}/{}'.format(newpath, star, new_name)\n",
    "        hdul.writeto(savepath, overwrite=True)\n"
   ]
  },
  {
   "cell_type": "code",
   "execution_count": 7,
   "id": "f7cf44c8-9c08-464c-a583-093e73368888",
   "metadata": {},
   "outputs": [
    {
     "data": {
      "text/plain": [
       "80"
      ]
     },
     "execution_count": 7,
     "metadata": {},
     "output_type": "execute_result"
    }
   ],
   "source": [
    "146-66"
   ]
  },
  {
   "cell_type": "code",
   "execution_count": 8,
   "id": "30a2c549-7597-4c12-8cf3-58a52928162f",
   "metadata": {},
   "outputs": [],
   "source": [
    "# Simbad.query_objects(stars)"
   ]
  },
  {
   "cell_type": "code",
   "execution_count": 9,
   "id": "3a035513-4982-4804-b0a6-77faf0d32fa1",
   "metadata": {},
   "outputs": [
    {
     "data": {
      "text/plain": [
       "1"
      ]
     },
     "execution_count": 9,
     "metadata": {},
     "output_type": "execute_result"
    }
   ],
   "source": [
    "len(stars)"
   ]
  },
  {
   "cell_type": "code",
   "execution_count": 10,
   "id": "97366c32-1536-4a35-84eb-ebb987ab3f9b",
   "metadata": {},
   "outputs": [],
   "source": [
    "for i in hdr:\n",
    "    if hdr[i] in ['mod', 'Mod', 'MOD']:\n",
    "        print (i, hdr[i])\n",
    "        hdr[i] = 'MODEL'\n",
    "        print (i, hdr[i])"
   ]
  },
  {
   "cell_type": "code",
   "execution_count": 11,
   "id": "67d2250a-085a-449f-88ea-904102376770",
   "metadata": {},
   "outputs": [
    {
     "data": {
      "text/plain": [
       "SIMPLE  =                    T / conforms to FITS standard                      \n",
       "BITPIX  =                    8 / array data type                                \n",
       "NAXIS   =                    0 / number of array dimensions                     \n",
       "EXTEND  =                    T                                                  \n",
       "TELESCOP= 'MULTI   '                                                            \n",
       "INSTRUME= 'MULTI   '                                                            \n",
       "GRATING = 'MULTI   '                                                            \n",
       "TELESC00= 'MODEL   '                                                            \n",
       "INSTRU00= 'LYA     '                                                            \n",
       "GRATIN00= 'YOUNG   '                                                            \n",
       "TELESC01= 'HST     '                                                            \n",
       "INSTRU01= 'STS     '                                                            \n",
       "GRATIN01= 'G140L   '                                                            \n",
       "TELESC02= 'HST     '                                                            \n",
       "INSTRU02= 'STS     '                                                            \n",
       "GRATIN02= 'G230L   '                                                            \n",
       "TELESC03= 'HST     '                                                            \n",
       "INSTRU03= 'STS     '                                                            \n",
       "GRATIN03= 'G430L   '                                                            \n",
       "TELESC04= 'MODEL   '                                                            \n",
       "INSTRU04= 'PHX     '                                                            \n",
       "GRATIN04= '-----   '                                                            \n",
       "TELESC05= 'MODEL   '                                                            \n",
       "INSTRU05= 'APC     '                                                            \n",
       "GRATIN05= '-----   '                                                            \n",
       "TELESC06= 'MODEL   '                                                            \n",
       "INSTRU06= 'DEM     '                                                            \n",
       "GRATIN06= '-----   '                                                            \n",
       "TARGNAME= 'TOI-402 '                                                            \n",
       "RA_TARG =    36.86824208333333                                                  \n",
       "DEC_TARG=  -27.635204444444444                                                  \n",
       "PROPOSID=                16701                                                  \n",
       "HLSPNAME= 'MUSCLES Extension for Atmospheric Transmisson Spectroscopy'          \n",
       "HLSPACRN= 'MEATS   '                                                            \n",
       "HLSPLEAD= 'David J. Wilson'                                                     \n",
       "PR_INV_L= 'Youngblood'                                                          \n",
       "PR_INV_F= 'Allison '                                                            \n",
       "WAVEMIN =                  5.0                                                  \n",
       "WAVEMAX =             129998.0                                                  \n",
       "WAVEUNIT= 'ang     '                                                            \n",
       "AIRORVAC= 'vac     '                                                            \n",
       "FLUXMIN = -5.5243604838752E-16                                                  \n",
       "FLUXMAX = 1.03380747554373E-12                                                  \n",
       "FLUXUNIT= 'erg/s/cm2/ang'                                                       \n",
       "BOLOFLUX= 7.27516929168749E-09                                                  \n",
       "MJD-BEG =       59922.57052803                                                  \n",
       "MJD-END =       59922.65850238                                                  \n",
       "DOI     = '10.17909/T9DG6F'                                                     \n",
       "RADESYS = 'ICRS    '                                                            \n",
       "TIMESYS = 'UTC     '                                                            \n",
       "HLSPVER = 'V25     '                                                            \n",
       "HSLPID  = 'MUSCLES '                                                            \n",
       "LICENSE = 'CC BY 4.0'                                                           \n",
       "LICENURL= 'https://creativecommons.org/licenses/by/4.0/'                        "
      ]
     },
     "execution_count": 11,
     "metadata": {},
     "output_type": "execute_result"
    }
   ],
   "source": [
    "hdr"
   ]
  },
  {
   "cell_type": "code",
   "execution_count": 12,
   "id": "8d76e4ab-771c-4be1-b2b1-9e00ad5e0b33",
   "metadata": {},
   "outputs": [
    {
     "data": {
      "text/plain": [
       "<SkyCoord (ICRS): (ra, dec) in deg\n",
       "    (36.86824208, -27.63520444)>"
      ]
     },
     "execution_count": 12,
     "metadata": {},
     "output_type": "execute_result"
    }
   ],
   "source": [
    "c = SkyCoord(star_list['RA'][-1], star_list['DEC'][-1], unit=(u.hourangle, u.deg))\n",
    "c"
   ]
  },
  {
   "cell_type": "code",
   "execution_count": 13,
   "id": "9a85fd41-4519-48fc-8e7e-19f3eb158b76",
   "metadata": {},
   "outputs": [
    {
     "data": {
      "text/plain": [
       "-27.635204444444444"
      ]
     },
     "execution_count": 13,
     "metadata": {},
     "output_type": "execute_result"
    }
   ],
   "source": [
    "c.dec.deg\n"
   ]
  },
  {
   "cell_type": "code",
   "execution_count": 14,
   "id": "007980c9-ce40-4ebc-b6ee-d1e4da61dc64",
   "metadata": {},
   "outputs": [
    {
     "name": "stdout",
     "output_type": "stream",
     "text": [
      "toi-402\n",
      "TOI-402\n",
      "36.86824208333333 -27.635204444444444\n",
      "36.86770877243 -27.63655984225\n",
      "TOI-402\n",
      "36.86824208333333 -27.635204444444444\n",
      "36.86770877243 -27.63655984225\n",
      "TOI-402\n",
      "36.86824208333333 -27.635204444444444\n",
      "36.86770877243 -27.63655984225\n",
      "TOI-402\n",
      "36.86824208333333 -27.635204444444444\n",
      "36.86770877243 -27.63655984225\n"
     ]
    }
   ],
   "source": [
    "for star in stars:\n",
    "    print(star)\n",
    "    starpath = 'draft_hlsp/{}/'.format(star)\n",
    "    seds = glob.glob('{}*multi*.fits'.format(starpath))\n",
    "    for sed in seds:\n",
    "        hdul = fits.open(sed)\n",
    "        hdr = hdul[0].header\n",
    "        starname = hdr['TARGNAME']\n",
    "        print(starname)\n",
    "        if starname[0:2].upper() == 'HD':\n",
    "            starname = starname.replace('-', ' ')\n",
    "        elif starname == 'kap1Cet':\n",
    "            starname = '*kap01 Cet'\n",
    "        simtab = Simbad.query_object(starname)\n",
    "        coords = SkyCoord(simtab['RA'][0], simtab['DEC'][0], unit=(u.hourangle, u.deg))\n",
    "        print(coords.ra.deg, coords.dec.deg)\n",
    "        print(hdr['RA_TARG'], hdr['DEC_TARG'])\n",
    "        # print(startab)"
   ]
  },
  {
   "cell_type": "code",
   "execution_count": 15,
   "id": "6f680c87-0b13-4cb0-a232-6ce36cf5593d",
   "metadata": {},
   "outputs": [],
   "source": [
    "# simtab"
   ]
  },
  {
   "cell_type": "code",
   "execution_count": 16,
   "id": "f3d13618-89a7-4b4b-a5ae-dba82eff66ef",
   "metadata": {},
   "outputs": [],
   "source": [
    "# Simbad.query_object('TOI-134')"
   ]
  },
  {
   "cell_type": "code",
   "execution_count": null,
   "id": "ba1130a6-685c-4d33-8b3f-edb1b9054455",
   "metadata": {},
   "outputs": [],
   "source": []
  }
 ],
 "metadata": {
  "kernelspec": {
   "display_name": "Python 3 (ipykernel)",
   "language": "python",
   "name": "python3"
  },
  "language_info": {
   "codemirror_mode": {
    "name": "ipython",
    "version": 3
   },
   "file_extension": ".py",
   "mimetype": "text/x-python",
   "name": "python",
   "nbconvert_exporter": "python",
   "pygments_lexer": "ipython3",
   "version": "3.11.11"
  }
 },
 "nbformat": 4,
 "nbformat_minor": 5
}
