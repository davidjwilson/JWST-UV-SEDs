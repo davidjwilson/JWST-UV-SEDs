{
 "cells": [
  {
   "cell_type": "markdown",
   "id": "907c7486-592d-4a77-ba1d-42b9ed9e2965",
   "metadata": {},
   "source": [
    "Updating the SED files for MEATS to newer MAST standards"
   ]
  },
  {
   "cell_type": "code",
   "execution_count": 2,
   "id": "e11e3f52-2aa8-4db5-9396-5d0af82acd27",
   "metadata": {},
   "outputs": [],
   "source": [
    "import numpy as np\n",
    "import matplotlib.pyplot as plt\n",
    "import astropy.io.fits as fits\n",
    "import os\n",
    "import glob\n",
    "from astropy.table import Table\n",
    "from astropy.io import ascii\n",
    "from astropy.convolution import convolve, Box1DKernel\n",
    "from scipy.interpolate import interp1d\n",
    "\n",
    "import astropy.units as u\n",
    "from astropy import time, coordinates as coord\n",
    "import astropy.constants as const\n",
    "from astropy.modeling import models, fitting\n",
    "from astropy.coordinates import SkyCoord\n",
    "from matplotlib.gridspec import GridSpec\n",
    "from datetime import datetime\n",
    "\n",
    "\n",
    "#matplotlib set up\n",
    "%matplotlib inline\n",
    "from matplotlib import rcParams\n",
    "rcParams[\"figure.figsize\"] = (14, 5)\n",
    "rcParams[\"font.size\"] = 20"
   ]
  },
  {
   "cell_type": "code",
   "execution_count": 43,
   "id": "dfe69efa-49b5-4733-8a53-2cab3a7bebff",
   "metadata": {},
   "outputs": [],
   "source": [
    "oldv = 1\n",
    "version = 25"
   ]
  },
  {
   "cell_type": "markdown",
   "id": "28ac22e9-b03d-4a29-836d-885e2b5ef536",
   "metadata": {},
   "source": [
    "\n",
    "    STIS spectra\n",
    "\n",
    "DOI = ‘10.17909/T9DG6F’\n",
    "\n",
    "EQUINOX =’2000.2’ or RADESYS = 'ICRS'\n",
    "\n",
    "HLSPID =’MUSCLES’\n",
    "\n",
    "HLSPVER=’V1’\n",
    "\n",
    "LICENSE =’CC BY 4.0’\n",
    "\n",
    "LICENSURL= 'https://creativecommons.org/licenses/by/4.0/'\n",
    "\n",
    "TIMESYS: Character string code (see FITS Standard) for the time scale of time-related keywords. Ex: 'UTC'\n",
    "\n",
    " \n",
    "\n",
    "    Model spectra\n",
    "\n",
    "The same set of metadata is required as STIS data except for EQUINOX/RADESYS and TIMESYS.\n",
    "\n",
    " \n",
    "\n",
    "    SED data \n",
    "\n",
    "The same set of metadata is required as STIS data except for OBSERVAT.\n",
    "\n",
    "MJD-BEG and MJD-END in the primary header. (* see below)\n",
    "\n",
    " \n",
    "\n",
    "    XMM data\n",
    "\n",
    "The same set of metadata is required as STIS data.\n",
    "\n",
    "RA_TARG and DEC_TARG values are missing. Please include the correct RA/Dec values."
   ]
  },
  {
   "cell_type": "code",
   "execution_count": 67,
   "id": "5a6afe22-d187-4070-b5ce-395364b4ddaa",
   "metadata": {},
   "outputs": [
    {
     "data": {
      "text/plain": [
       "['hd120411',\n",
       " 'k2-18',\n",
       " 'kepler-51',\n",
       " 'kappa1_ceti',\n",
       " 'wasp-63',\n",
       " 'toi-776',\n",
       " 'gj_341',\n",
       " 'tau_ceti',\n",
       " 'toi-421',\n",
       " 'gj_367',\n",
       " 'wasp-121']"
      ]
     },
     "execution_count": 67,
     "metadata": {},
     "output_type": "execute_result"
    }
   ],
   "source": [
    "stars = os.listdir('draft_hlsp/')\n",
    "stars"
   ]
  },
  {
   "cell_type": "code",
   "execution_count": 45,
   "id": "831d1ac0-f418-4bc7-8f80-662cbac45a50",
   "metadata": {},
   "outputs": [],
   "source": [
    "\n"
   ]
  },
  {
   "cell_type": "code",
   "execution_count": 6,
   "id": "b3592fd4-480c-4d64-bd10-d9fac013a77a",
   "metadata": {},
   "outputs": [
    {
     "name": "stdout",
     "output_type": "stream",
     "text": [
      "['draft_hlsp/hd120411/hlsp_muscles_hst_stis_hd-120411_g230l_v1_component-spec.fits'\n",
      " 'draft_hlsp/hd120411/hlsp_muscles_hst_stis_hd-120411_g140l_v1_component-spec.fits'\n",
      " 'draft_hlsp/hd120411/hlsp_muscles_hst_stis_hd-120411_g430l_v1_component-spec.fits']\n",
      "['draft_hlsp/hd120411/hlsp_muscles_model_dem_hd-120411_na_v1_component-spec.fits', 'draft_hlsp/hd120411/hlsp_muscles_model_apec_hd-120411_na_v1_component-spec.fits', 'draft_hlsp/hd120411/hlsp_muscles_model_phx_hd-120411_na_v1_component-spec.fits', 'draft_hlsp/hd120411/hlsp_muscles_model_lya_hd-120411_na_v1_component-spec.fits']\n",
      "['draft_hlsp/hd120411/hlsp_muscles_multi_multi_hd-120411_broadband_v1_adapt-const-res-sed.fits', 'draft_hlsp/hd120411/hlsp_muscles_multi_multi_hd-120411_broadband_v1_var-res-sed.fits', 'draft_hlsp/hd120411/hlsp_muscles_multi_multi_hd-120411_broadband_v1_adapt-var-res-sed.fits', 'draft_hlsp/hd120411/hlsp_muscles_multi_multi_hd-120411_broadband_v1_const-res-sed.fits']\n",
      "['draft_hlsp/hd120411/hlsp_muscles_cxo_acis_hd-120411_none_v1_component-spec.fits']\n"
     ]
    }
   ],
   "source": [
    "\n"
   ]
  },
  {
   "cell_type": "code",
   "execution_count": 76,
   "id": "d659ef68-4f05-4b7e-b947-a298becbf00d",
   "metadata": {},
   "outputs": [],
   "source": [
    "\n",
    "newpath = 'fixed_hlsp/'\n",
    "for star in stars:\n",
    "    newdir = '{}{}'.format(newpath, star)\n",
    "    if not os.path.exists(newdir):\n",
    "       os.makedirs(newdir)\n",
    "    \n",
    "    oldv = 1\n",
    "    if star == 'wasp-63':\n",
    "        oldv = 2\n",
    "    starpath = 'draft_hlsp/{}/'.format(star)\n",
    "    specs = np.hstack((glob.glob('{}*stis*.fits'.format(starpath)),glob.glob('{}*cos*.fits'.format(starpath))))\n",
    "    mods = glob.glob('{}*mod*.fits'.format(starpath))\n",
    "    seds = glob.glob('{}*multi*.fits'.format(starpath))\n",
    "    xrays = np.hstack((glob.glob('{}*cxo*.fits'.format(starpath)),glob.glob('{}*xmm*.fits'.format(starpath))))\n",
    "\n",
    "    # print(specs)\n",
    "    # print(mods)\n",
    "    # print(seds)\n",
    "    # print(xrays)\n",
    "    \n",
    "    \n",
    "    starts = []\n",
    "    ends = []\n",
    "\n",
    "    for spec in specs:\n",
    "        hdul = fits.open(spec)\n",
    "        hdr = hdul[0].header\n",
    "        ra, dec = hdr['RA_TARG'], hdr['DEC_TARG']\n",
    "        starts.append(hdr['EXPSTART'])\n",
    "        ends.append(hdr['EXPEND'])\n",
    "        hdr.append(('DOI', '10.17909/T9DG6F'))\n",
    "        hdr.append(('RADESYS' , 'ICRS'))\n",
    "        hdr.append(('TIMESYS', 'UTC'))\n",
    "        hdr.append(('HLSPVER', 'V{}'.format(version)))\n",
    "        hdr.append(('HSLPID', 'MUSCLES'))\n",
    "        hdr.append(('LICENSE','CC BY 4.0'))\n",
    "        hdr.append(('LICENURL', 'https://creativecommons.org/licenses/by/4.0/'))\n",
    "        new_name = (os.path.split(spec)[1]).replace('v{}'.format(oldv), 'v{}'.format(version))\n",
    "        savepath = '{}{}/{}'.format(newpath, star, new_name)\n",
    "        hdul.writeto(savepath, overwrite=True)\n",
    "    \n",
    "    for spec in mods:\n",
    "        hdul = fits.open(spec)\n",
    "        hdr = hdul[0].header\n",
    "        hdr.append(('DOI', '10.17909/T9DG6F'))\n",
    "        hdr.append(('HLSPVER', 'V{}'.format(version)))\n",
    "        hdr.append(('HSLPID', 'MUSCLES'))\n",
    "        hdr.append(('LICENSE','CC BY 4.0'))\n",
    "        hdr.append(('LICENURL', 'https://creativecommons.org/licenses/by/4.0/'))\n",
    "        new_name = (os.path.split(spec)[1]).replace('v{}'.format(oldv), 'v{}'.format(version))\n",
    "        savepath = '{}{}/{}'.format(newpath, star, new_name)\n",
    "        hdul.writeto(savepath, overwrite=True)\n",
    "    \n",
    "    for spec in xrays:\n",
    "        hdul = fits.open(spec)\n",
    "        hdr = hdul[0].header\n",
    "        starts.append(hdr['EXPSTART'])\n",
    "        ends.append(hdr['EXPEND'])\n",
    "        hdr.append(('RA_TARG', ra))\n",
    "        hdr.append(('DEC_TARG', dec))\n",
    "        hdr.append(('DOI', '10.17909/T9DG6F'))\n",
    "        hdr.append(('RADESYS' , 'ICRS'))\n",
    "        hdr.append(('TIMESYS', 'UTC'))\n",
    "        hdr.append(('HLSPVER', 'V{}'.format(version)))\n",
    "        hdr.append(('HSLPID', 'MUSCLES'))\n",
    "        hdr.append(('LICENSE','CC BY 4.0'))\n",
    "        hdr.append(('LICENURL', 'https://creativecommons.org/licenses/by/4.0/'))\n",
    "        new_name = (os.path.split(spec)[1]).replace('v{}'.format(oldv), 'v{}'.format(version))\n",
    "        savepath = '{}{}/{}'.format(newpath, star, new_name)\n",
    "        hdul.writeto(savepath, overwrite=True)\n",
    "    \n",
    "    start = np.min(starts)\n",
    "    end = np.max(ends)\n",
    "    \n",
    "    for spec in seds:\n",
    "        hdul = fits.open(spec)\n",
    "        hdr = hdul[0].header\n",
    "        hdr.append(('MJD-BEG', start))\n",
    "        hdr.append(('MJD-END', end))\n",
    "        hdr.append(('DOI', '10.17909/T9DG6F'))\n",
    "        hdr.append(('RADESYS' , 'ICRS'))\n",
    "        hdr.append(('TIMESYS', 'UTC'))\n",
    "        hdr.append(('HLSPVER', 'V{}'.format(version)))\n",
    "        hdr.append(('HSLPID', 'MUSCLES'))\n",
    "        hdr.append(('LICENSE','CC BY 4.0'))\n",
    "        hdr.append(('LICENURL', 'https://creativecommons.org/licenses/by/4.0/'))\n",
    "        new_name = (os.path.split(spec)[1]).replace('v{}'.format(oldv), 'v{}'.format(version))\n",
    "        for i in hdr:\n",
    "            if hdr[i] in ['mod', 'Mod', 'MOD']:\n",
    "                hdr[i] = 'MODEL'\n",
    "        savepath = '{}{}/{}'.format(newpath, star, new_name)\n",
    "        hdul.writeto(savepath, overwrite=True)\n"
   ]
  },
  {
   "cell_type": "code",
   "execution_count": 61,
   "id": "f7cf44c8-9c08-464c-a583-093e73368888",
   "metadata": {},
   "outputs": [],
   "source": [
    "from astroquery.simbad import Simbad"
   ]
  },
  {
   "cell_type": "code",
   "execution_count": 68,
   "id": "30a2c549-7597-4c12-8cf3-58a52928162f",
   "metadata": {},
   "outputs": [
    {
     "data": {
      "text/html": [
       "<div><i>Table length=11</i>\n",
       "<table id=\"table140613187285392\" class=\"table-striped table-bordered table-condensed\">\n",
       "<thead><tr><th>MAIN_ID</th><th>RA</th><th>DEC</th><th>RA_PREC</th><th>DEC_PREC</th><th>COO_ERR_MAJA</th><th>COO_ERR_MINA</th><th>COO_ERR_ANGLE</th><th>COO_QUAL</th><th>COO_WAVELENGTH</th><th>COO_BIBCODE</th><th>SCRIPT_NUMBER_ID</th></tr></thead>\n",
       "<thead><tr><th></th><th>&quot;h:m:s&quot;</th><th>&quot;d:m:s&quot;</th><th></th><th></th><th>mas</th><th>mas</th><th>deg</th><th></th><th></th><th></th><th></th></tr></thead>\n",
       "<thead><tr><th>object</th><th>str13</th><th>str13</th><th>int16</th><th>int16</th><th>float32</th><th>float32</th><th>int16</th><th>str1</th><th>str1</th><th>object</th><th>int32</th></tr></thead>\n",
       "<tr><td>HD 120411</td><td>13 50 06.2797</td><td>-40 50 08.881</td><td>14</td><td>14</td><td>0.014</td><td>0.018</td><td>90</td><td>A</td><td>O</td><td>2020yCat.1350....0G</td><td>1</td></tr>\n",
       "<tr><td>K2-18</td><td>11 30 14.5177</td><td>+07 35 18.255</td><td>14</td><td>14</td><td>0.022</td><td>0.020</td><td>90</td><td>A</td><td>O</td><td>2020yCat.1350....0G</td><td>2</td></tr>\n",
       "<tr><td>Kepler-51</td><td>19 45 55.1428</td><td>+49 56 15.650</td><td>14</td><td>14</td><td>0.016</td><td>0.015</td><td>90</td><td>A</td><td>O</td><td>2020yCat.1350....0G</td><td>3</td></tr>\n",
       "<tr><td>* kap01 Cet</td><td>03 19 21.6964</td><td>+03 22 12.714</td><td>14</td><td>14</td><td>0.152</td><td>0.101</td><td>90</td><td>A</td><td>O</td><td>2020yCat.1350....0G</td><td>4</td></tr>\n",
       "<tr><td>CD-38  2551</td><td>06 17 20.7484</td><td>-38 19 23.754</td><td>14</td><td>14</td><td>0.010</td><td>0.010</td><td>90</td><td>A</td><td>O</td><td>2020yCat.1350....0G</td><td>5</td></tr>\n",
       "<tr><td>LP  961-53</td><td>11 54 18.3921</td><td>-37 33 09.837</td><td>14</td><td>14</td><td>0.013</td><td>0.010</td><td>90</td><td>A</td><td>O</td><td>2020yCat.1350....0G</td><td>6</td></tr>\n",
       "<tr><td>HD 304636</td><td>09 21 37.6015</td><td>-60 16 55.030</td><td>14</td><td>14</td><td>0.013</td><td>0.014</td><td>90</td><td>A</td><td>O</td><td>2020yCat.1350....0G</td><td>7</td></tr>\n",
       "<tr><td>* tau Cet</td><td>01 44 04.0831</td><td>-15 56 14.927</td><td>14</td><td>14</td><td>0.119</td><td>0.083</td><td>90</td><td>A</td><td>O</td><td>2020yCat.1350....0G</td><td>8</td></tr>\n",
       "<tr><td>BD-14  1137</td><td>05 27 24.8258</td><td>-14 16 37.046</td><td>14</td><td>14</td><td>0.008</td><td>0.008</td><td>90</td><td>A</td><td>O</td><td>2020yCat.1350....0G</td><td>9</td></tr>\n",
       "<tr><td>CD-45  5378</td><td>09 44 29.8367</td><td>-45 46 35.427</td><td>14</td><td>14</td><td>0.011</td><td>0.012</td><td>90</td><td>A</td><td>O</td><td>2020yCat.1350....0G</td><td>10</td></tr>\n",
       "<tr><td>CD-38  3220</td><td>07 10 24.0604</td><td>-39 05 50.571</td><td>14</td><td>14</td><td>0.009</td><td>0.010</td><td>90</td><td>A</td><td>O</td><td>2020yCat.1350....0G</td><td>11</td></tr>\n",
       "</table></div>"
      ],
      "text/plain": [
       "<Table length=11>\n",
       "  MAIN_ID         RA      ...     COO_BIBCODE     SCRIPT_NUMBER_ID\n",
       "               \"h:m:s\"    ...                                     \n",
       "   object       str13     ...        object            int32      \n",
       "----------- ------------- ... ------------------- ----------------\n",
       "  HD 120411 13 50 06.2797 ... 2020yCat.1350....0G                1\n",
       "      K2-18 11 30 14.5177 ... 2020yCat.1350....0G                2\n",
       "  Kepler-51 19 45 55.1428 ... 2020yCat.1350....0G                3\n",
       "* kap01 Cet 03 19 21.6964 ... 2020yCat.1350....0G                4\n",
       "CD-38  2551 06 17 20.7484 ... 2020yCat.1350....0G                5\n",
       " LP  961-53 11 54 18.3921 ... 2020yCat.1350....0G                6\n",
       "  HD 304636 09 21 37.6015 ... 2020yCat.1350....0G                7\n",
       "  * tau Cet 01 44 04.0831 ... 2020yCat.1350....0G                8\n",
       "BD-14  1137 05 27 24.8258 ... 2020yCat.1350....0G                9\n",
       "CD-45  5378 09 44 29.8367 ... 2020yCat.1350....0G               10\n",
       "CD-38  3220 07 10 24.0604 ... 2020yCat.1350....0G               11"
      ]
     },
     "execution_count": 68,
     "metadata": {},
     "output_type": "execute_result"
    }
   ],
   "source": [
    "Simbad.query_objects(stars)"
   ]
  },
  {
   "cell_type": "code",
   "execution_count": 65,
   "id": "3a035513-4982-4804-b0a6-77faf0d32fa1",
   "metadata": {},
   "outputs": [
    {
     "data": {
      "text/plain": [
       "11"
      ]
     },
     "execution_count": 65,
     "metadata": {},
     "output_type": "execute_result"
    }
   ],
   "source": [
    "len(stars)"
   ]
  },
  {
   "cell_type": "code",
   "execution_count": 73,
   "id": "97366c32-1536-4a35-84eb-ebb987ab3f9b",
   "metadata": {},
   "outputs": [
    {
     "name": "stdout",
     "output_type": "stream",
     "text": [
      "TELESC00 MOD\n",
      "TELESC00 MODEL\n",
      "TELESC05 MOD\n",
      "TELESC05 MODEL\n",
      "TELESC07 MOD\n",
      "TELESC07 MODEL\n",
      "TELESC08 MOD\n",
      "TELESC08 MODEL\n"
     ]
    }
   ],
   "source": [
    "for i in hdr:\n",
    "    if hdr[i] in ['mod', 'Mod', 'MOD']:\n",
    "        print (i, hdr[i])\n",
    "        hdr[i] = 'MODEL'\n",
    "        print (i, hdr[i])"
   ]
  },
  {
   "cell_type": "code",
   "execution_count": 74,
   "id": "67d2250a-085a-449f-88ea-904102376770",
   "metadata": {},
   "outputs": [
    {
     "data": {
      "text/plain": [
       "SIMPLE  =                    T / conforms to FITS standard                      \n",
       "BITPIX  =                    8 / array data type                                \n",
       "NAXIS   =                    0 / number of array dimensions                     \n",
       "EXTEND  =                    T                                                  \n",
       "TELESCOP= 'MULTI   '                                                            \n",
       "INSTRUME= 'MULTI   '                                                            \n",
       "GRATING = 'MULTI   '                                                            \n",
       "TELESC00= 'MODEL   '                                                            \n",
       "INSTRU00= 'LYA     '                                                            \n",
       "GRATIN00= 'YOUNG   '                                                            \n",
       "TELESC01= 'HST     '                                                            \n",
       "INSTRU01= 'STS     '                                                            \n",
       "GRATIN01= 'G140L   '                                                            \n",
       "TELESC02= 'HST     '                                                            \n",
       "INSTRU02= 'STS     '                                                            \n",
       "GRATIN02= 'E230M   '                                                            \n",
       "TELESC03= 'HST     '                                                            \n",
       "INSTRU03= 'STS     '                                                            \n",
       "GRATIN03= 'G430L   '                                                            \n",
       "TELESC04= 'HST     '                                                            \n",
       "INSTRU04= 'STS     '                                                            \n",
       "GRATIN04= 'G750L   '                                                            \n",
       "TELESC05= 'MODEL   '                                                            \n",
       "INSTRU05= 'PHX     '                                                            \n",
       "GRATIN05= '-----   '                                                            \n",
       "TELESC06= 'XMM     '                                                            \n",
       "INSTRU06= 'EPC     '                                                            \n",
       "GRATIN06= 'MULTI   '                                                            \n",
       "TELESC07= 'MODEL   '                                                            \n",
       "INSTRU07= 'APC     '                                                            \n",
       "GRATIN07= '-----   '                                                            \n",
       "TELESC08= 'MODEL   '                                                            \n",
       "INSTRU08= 'DEM     '                                                            \n",
       "GRATIN08= '-----   '                                                            \n",
       "TARGNAME= 'WASP-121'                                                            \n",
       "RA_TARG =       107.6002227085                                                  \n",
       "DEC_TARG=      -39.09721845818                                                  \n",
       "PROPOSID=                16701                                                  \n",
       "HLSPNAME= 'MUSCLES Extension for Atmospheric Transmisson Spectroscopy'          \n",
       "HLSPACRN= 'MEATS   '                                                            \n",
       "HLSPLEAD= 'David J. Wilson'                                                     \n",
       "PR_INV_L= 'Youngblood'                                                          \n",
       "PR_INV_F= 'Allison '                                                            \n",
       "WAVEMIN =    10.85055541992188                                                  \n",
       "WAVEMAX =            9995000.0                                                  \n",
       "WAVEUNIT= 'ang     '                                                            \n",
       "AIRORVAC= 'vac     '                                                            \n",
       "FLUXMIN = 1.93946525295537E-25                                                  \n",
       "FLUXMAX = 3.15524434921568E-13                                                  \n",
       "FLUXUNIT= 'erg/s/cm2/ang'                                                       \n",
       "BOLOFLUX= 1.62252721160064E-09                                                  \n",
       "MJD-BEG =       57704.69897198                                                  \n",
       "MJD-END =       59858.99350056                                                  \n",
       "DOI     = '10.17909/T9DG6F'                                                     \n",
       "RADESYS = 'ICRS    '                                                            \n",
       "TIMESYS = 'UTC     '                                                            \n",
       "HLSPVER = 'V25     '                                                            \n",
       "HSLPID  = 'MUSCLES '                                                            \n",
       "LICENSE = 'CC BY 4.0'                                                           \n",
       "LICENURL= 'https://creativecommons.org/licenses/by/4.0/'                        "
      ]
     },
     "execution_count": 74,
     "metadata": {},
     "output_type": "execute_result"
    }
   ],
   "source": [
    "hdr"
   ]
  },
  {
   "cell_type": "code",
   "execution_count": null,
   "id": "8d76e4ab-771c-4be1-b2b1-9e00ad5e0b33",
   "metadata": {},
   "outputs": [],
   "source": []
  }
 ],
 "metadata": {
  "kernelspec": {
   "display_name": "Python 3 (ipykernel)",
   "language": "python",
   "name": "python3"
  },
  "language_info": {
   "codemirror_mode": {
    "name": "ipython",
    "version": 3
   },
   "file_extension": ".py",
   "mimetype": "text/x-python",
   "name": "python",
   "nbconvert_exporter": "python",
   "pygments_lexer": "ipython3",
   "version": "3.11.5"
  }
 },
 "nbformat": 4,
 "nbformat_minor": 5
}
