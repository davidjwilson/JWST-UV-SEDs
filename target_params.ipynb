{
 "cells": [
  {
   "cell_type": "markdown",
   "id": "f68beabb-5b9c-47e4-84cf-f530144ad129",
   "metadata": {},
   "source": [
    "Plot of teff/mass v rotaion for Meats targets\n"
   ]
  },
  {
   "cell_type": "code",
   "execution_count": null,
   "id": "ded5491c-306b-4955-8e13-efdac79bd09d",
   "metadata": {},
   "outputs": [],
   "source": []
  }
 ],
 "metadata": {
  "kernelspec": {
   "display_name": "Python 3 (ipykernel)",
   "language": "python",
   "name": "python3"
  },
  "language_info": {
   "codemirror_mode": {
    "name": "ipython",
    "version": 3
   },
   "file_extension": ".py",
   "mimetype": "text/x-python",
   "name": "python",
   "nbconvert_exporter": "python",
   "pygments_lexer": "ipython3",
   "version": "3.7.13"
  }
 },
 "nbformat": 4,
 "nbformat_minor": 5
}
