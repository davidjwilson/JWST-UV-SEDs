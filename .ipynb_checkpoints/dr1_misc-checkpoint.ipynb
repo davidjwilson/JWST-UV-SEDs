{
 "cells": [
  {
   "cell_type": "markdown",
   "id": "c6d67076-ea4a-4c3f-9d33-60e889ab48c5",
   "metadata": {},
   "source": [
    "Odd jobs for DR1"
   ]
  },
  {
   "cell_type": "code",
   "execution_count": 1,
   "id": "9655f3e7-a5a8-47ed-9a4e-54406beeb0e2",
   "metadata": {
    "tags": []
   },
   "outputs": [],
   "source": [
    "import numpy as np\n",
    "import matplotlib.pyplot as plt\n",
    "import astropy.io.fits as fits\n",
    "import os\n",
    "import glob\n",
    "from astropy.table import Table\n",
    "from astropy.io import ascii\n",
    "from astropy.convolution import convolve, Box1DKernel\n",
    "from scipy.interpolate import interp1d\n",
    "\n",
    "import astropy.units as u\n",
    "from astropy import time, coordinates as coord\n",
    "import astropy.constants as const\n",
    "from astropy.modeling import models, fitting\n",
    "from matplotlib.gridspec import GridSpec\n",
    "from scipy.optimize import leastsq\n",
    "\n",
    "\n",
    "\n",
    "#matplotlib set up\n",
    "%matplotlib inline\n",
    "from matplotlib import rcParams\n",
    "rcParams[\"figure.figsize\"] = (14, 5)\n",
    "rcParams[\"font.size\"] = 20"
   ]
  },
  {
   "cell_type": "markdown",
   "id": "8d25710a-015c-48b8-bc14-4e41ef517eb2",
   "metadata": {},
   "source": [
    "Update proxy names in WASP 63, kap1cet and GJ367"
   ]
  },
  {
   "cell_type": "code",
   "execution_count": 5,
   "id": "c20d164c-3d11-4cb6-aebb-02493904854c",
   "metadata": {
    "tags": []
   },
   "outputs": [
    {
     "data": {
      "text/plain": [
       "['draft_hlsp/wasp-63/hlsp_muscles_multi_multi_wasp-63_broadband_v2_var-res-sed.fits',\n",
       " 'draft_hlsp/wasp-63/hlsp_muscles_multi_multi_wasp-63_broadband_v2_const-res-sed.fits']"
      ]
     },
     "execution_count": 5,
     "metadata": {},
     "output_type": "execute_result"
    }
   ],
   "source": [
    "wasp63_seds = glob.glob('draft_hlsp/wasp-63/*multi*')\n",
    "wasp63_seds"
   ]
  },
  {
   "cell_type": "code",
   "execution_count": 6,
   "id": "5ecebd5b-21a2-4403-b3f7-41b691226113",
   "metadata": {
    "tags": []
   },
   "outputs": [
    {
     "data": {
      "text/plain": [
       "FITS_rec([(     128, 'HST', 'STS', 'G230L', 'hlsp_muscles_hst_stis_wasp-63_g230l_v2_component-spec.fits'),\n",
       "          (  131072, 'MOD', 'PHX', 'NA', 'hlsp_muscles_mod_phx_wasp-63_na_v2_component-spec.fits'),\n",
       "          (     256, 'HST', 'STS', 'G430L', 'hlsp_muscles_hst_stis_wasp-63_g430l_v2_component-spec.fits'),\n",
       "          (33554432, 'MOD', 'SOL', 'NA', 'hlsp_muscles_mod_sol_wasp-63_na_v2_component-spec.fits')],\n",
       "         dtype=(numpy.record, [('BITVALUE', '>i8'), ('TELESCOPE', 'S3'), ('INSTRUMENT', 'S3'), ('GRATING', 'S5'), ('HLSP_FILE', 'S58')]))"
      ]
     },
     "execution_count": 6,
     "metadata": {},
     "output_type": "execute_result"
    }
   ],
   "source": [
    "fits.getdata(wasp63_seds[0], 2)"
   ]
  },
  {
   "cell_type": "markdown",
   "id": "4884b6c3-6088-443e-b5c7-2a1fb9dcb99e",
   "metadata": {},
   "source": [
    "Yay me from the past fixed that."
   ]
  },
  {
   "cell_type": "code",
   "execution_count": 8,
   "id": "8168304f-918a-4383-8b69-a7a6952eda71",
   "metadata": {
    "tags": []
   },
   "outputs": [
    {
     "data": {
      "text/plain": [
       "['draft_hlsp/kap1cet/hlsp_muscles_multi_multi_kap1cet_broadband_v1_adapt-const-res-sed.fits',\n",
       " 'draft_hlsp/kap1cet/hlsp_muscles_multi_multi_kap1cet_broadband_v1_adapt-var-res-sed.fits',\n",
       " 'draft_hlsp/kap1cet/hlsp_muscles_multi_multi_kap1cet_broadband_v1_var-res-sed.fits',\n",
       " 'draft_hlsp/kap1cet/hlsp_muscles_multi_multi_kap1cet_broadband_v1_const-res-sed.fits']"
      ]
     },
     "execution_count": 8,
     "metadata": {},
     "output_type": "execute_result"
    }
   ],
   "source": [
    "k1c_seds = glob.glob('draft_hlsp/kap1cet/*multi*')\n",
    "k1c_seds"
   ]
  },
  {
   "cell_type": "code",
   "execution_count": 9,
   "id": "04f4688f-f5bd-4b27-bdaa-429e8ec74350",
   "metadata": {
    "tags": []
   },
   "outputs": [
    {
     "data": {
      "text/plain": [
       "FITS_rec([(   262144, 'OTH', '---', 'OTHER', 'hlsp_muscles_oth_na_kap1cet_other_v1_component-spec.fits'),\n",
       "          (    65536, 'MOD', 'LYA', 'YOUNG', 'hlsp_muscles_mod_lya-reconstruction_kap1cet_young_v1_component-spec.fits'),\n",
       "          (   131072, 'MOD', 'PHX', 'NA', 'hlsp_muscles_mod_phx_kap1cet_na_v1_component-spec.fits'),\n",
       "          (      256, 'HST', 'STS', 'G430L', 'hlsp_muscles_hst_stis_kap1cet_g430l_v1_component-spec.fits'),\n",
       "          (134217728, 'XMM', 'RGS', 'NA', 'hlsp_muscles_xmm_rgs_kap1cet_na_v1_component-spec.fits'),\n",
       "          ( 16777216, 'MOD', 'DEM', 'NA', 'hlsp_muscles_mod_dem_kap1cet_na_v1_component-spec.fits')],\n",
       "         dtype=(numpy.record, [('BITVALUE', '>i8'), ('TELESCOPE', 'S3'), ('INSTRUMENT', 'S3'), ('GRATING', 'S5'), ('HLSP_FILE', 'S72')]))"
      ]
     },
     "execution_count": 9,
     "metadata": {},
     "output_type": "execute_result"
    }
   ],
   "source": [
    "# fits.getdata(k1c_seds[0], 2)"
   ]
  },
  {
   "cell_type": "code",
   "execution_count": 13,
   "id": "7ffa501d-a7ab-41f2-87e0-7d564ed68e87",
   "metadata": {
    "tags": []
   },
   "outputs": [
    {
     "name": "stdout",
     "output_type": "stream",
     "text": [
      "(262144, 'OTH', '---', 'OTHER', 'hlsp_muscles_oth_na_kap1cet_other_v1_component-spec.fits')\n",
      "(262144, 'OTH', '---', 'OTHER', 'h_hd20630_uvsum_1x_51806_spc.fits')\n",
      "(262144, 'OTH', '---', 'OTHER', 'hlsp_muscles_oth_na_kap1cet_other_v1_component-spec.fits')\n",
      "(262144, 'OTH', '---', 'OTHER', 'h_hd20630_uvsum_1x_51806_spc.fits')\n",
      "(262144, 'OTH', '---', 'OTHER', 'hlsp_muscles_oth_na_kap1cet_other_v1_component-spec.fits')\n",
      "(262144, 'OTH', '---', 'OTHER', 'h_hd20630_uvsum_1x_51806_spc.fits')\n",
      "(262144, 'OTH', '---', 'OTHER', 'hlsp_muscles_oth_na_kap1cet_other_v1_component-spec.fits')\n",
      "(262144, 'OTH', '---', 'OTHER', 'h_hd20630_uvsum_1x_51806_spc.fits')\n"
     ]
    }
   ],
   "source": [
    "# for sed in k1c_seds:\n",
    "#     hdul = fits.open(sed)\n",
    "#     datasets = hdul[2].data\n",
    "#     print(datasets[0])\n",
    "#     datasets['HLSP_FILE'][0] = 'h_hd20630_uvsum_1x_51806_spc.fits'    \n",
    "#     print(datasets[0])\n",
    "#     hdul.writeto(sed, overwrite=True)\n",
    "#     hdul.close()"
   ]
  },
  {
   "cell_type": "code",
   "execution_count": 15,
   "id": "6c6b4b98-8a2b-4391-8e38-6d60e793a045",
   "metadata": {
    "tags": []
   },
   "outputs": [
    {
     "data": {
      "text/plain": [
       "['draft_hlsp/gj_367/hlsp_muscles_multi_multi_gj_367_broadband_v1_const-res-sed.fits',\n",
       " 'draft_hlsp/gj_367/hlsp_muscles_multi_multi_gj_367_broadband_v1_var-res-sed.fits',\n",
       " 'draft_hlsp/gj_367/hlsp_muscles_multi_multi_gj_367_broadband_v1_adapt-const-res-sed.fits',\n",
       " 'draft_hlsp/gj_367/hlsp_muscles_multi_multi_gj_367_broadband_v1_adapt-var-res-sed.fits']"
      ]
     },
     "execution_count": 15,
     "metadata": {},
     "output_type": "execute_result"
    }
   ],
   "source": [
    "gj_seds = glob.glob('draft_hlsp/gj_367/*multi*')\n",
    "gj_seds"
   ]
  },
  {
   "cell_type": "code",
   "execution_count": 20,
   "id": "b19254fd-1583-4fd6-9255-f26a53601ae8",
   "metadata": {
    "tags": []
   },
   "outputs": [
    {
     "name": "stdout",
     "output_type": "stream",
     "text": [
      "(262144, 'OTH', '---', 'OTHER', 'hlsp_muscles_hst_stis_gj674_g140l_v24_component-spec.fits')\n",
      "(262144, 'OTH', '---', 'OTHER', 'hlsp_muscles_hst_stis_gj674_g140l_v24_component-spec.fits')\n",
      "(262144, 'OTH', '---', 'OTHER', 'hlsp_muscles_hst_stis_gj674_g140l_v24_component-spec.fits')\n",
      "(262144, 'OTH', '---', 'OTHER', 'hlsp_muscles_hst_stis_gj674_g140l_v24_component-spec.fits')\n",
      "(262144, 'OTH', '---', 'OTHER', 'hlsp_muscles_hst_stis_gj674_g140l_v24_component-spec.fits')\n",
      "(262144, 'OTH', '---', 'OTHER', 'hlsp_muscles_hst_stis_gj674_g140l_v24_component-spec.fits')\n",
      "(262144, 'OTH', '---', 'OTHER', 'hlsp_muscles_hst_stis_gj674_g140l_v24_component-spec.fits')\n",
      "(262144, 'OTH', '---', 'OTHER', 'hlsp_muscles_hst_stis_gj674_g140l_v24_component-spec.fits')\n"
     ]
    }
   ],
   "source": [
    "# for sed in gj_seds:\n",
    "#     hdul = fits.open(sed)\n",
    "#     datasets = hdul[2].data\n",
    "#     print(datasets[6])\n",
    "#     datasets['HLSP_FILE'][6] = 'hlsp_muscles_hst_stis_gj674_g140l_v24_component-spec.fits'    \n",
    "#     print(datasets[6])\n",
    "#     hdul.writeto(sed, overwrite=True)\n",
    "#     hdul.close()"
   ]
  },
  {
   "cell_type": "code",
   "execution_count": null,
   "id": "5a423a44-4103-47a3-a8ef-d77d18603edc",
   "metadata": {},
   "outputs": [],
   "source": []
  }
 ],
 "metadata": {
  "kernelspec": {
   "display_name": "Python 3 (ipykernel)",
   "language": "python",
   "name": "python3"
  },
  "language_info": {
   "codemirror_mode": {
    "name": "ipython",
    "version": 3
   },
   "file_extension": ".py",
   "mimetype": "text/x-python",
   "name": "python",
   "nbconvert_exporter": "python",
   "pygments_lexer": "ipython3",
   "version": "3.10.6"
  }
 },
 "nbformat": 4,
 "nbformat_minor": 5
}
