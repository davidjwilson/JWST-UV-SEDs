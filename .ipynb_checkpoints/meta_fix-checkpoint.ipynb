{
 "cells": [
  {
   "cell_type": "markdown",
   "id": "907c7486-592d-4a77-ba1d-42b9ed9e2965",
   "metadata": {},
   "source": [
    "Updating the SED files for MEATS to newer MAST standards"
   ]
  },
  {
   "cell_type": "code",
   "execution_count": 2,
   "id": "e11e3f52-2aa8-4db5-9396-5d0af82acd27",
   "metadata": {},
   "outputs": [],
   "source": [
    "import numpy as np\n",
    "import matplotlib.pyplot as plt\n",
    "import astropy.io.fits as fits\n",
    "import os\n",
    "import glob\n",
    "from astropy.table import Table\n",
    "from astropy.io import ascii\n",
    "from astropy.convolution import convolve, Box1DKernel\n",
    "from scipy.interpolate import interp1d\n",
    "\n",
    "import astropy.units as u\n",
    "from astropy import time, coordinates as coord\n",
    "import astropy.constants as const\n",
    "from astropy.modeling import models, fitting\n",
    "from astropy.coordinates import SkyCoord\n",
    "from matplotlib.gridspec import GridSpec\n",
    "from datetime import datetime\n",
    "from astroquery.simbad import Simbad\n",
    "\n",
    "#matplotlib set up\n",
    "%matplotlib inline\n",
    "from matplotlib import rcParams\n",
    "rcParams[\"figure.figsize\"] = (14, 5)\n",
    "rcParams[\"font.size\"] = 20"
   ]
  },
  {
   "cell_type": "code",
   "execution_count": 3,
   "id": "dfe69efa-49b5-4733-8a53-2cab3a7bebff",
   "metadata": {},
   "outputs": [],
   "source": [
    "oldv = 1\n",
    "version = 25"
   ]
  },
  {
   "cell_type": "markdown",
   "id": "28ac22e9-b03d-4a29-836d-885e2b5ef536",
   "metadata": {},
   "source": [
    "\n",
    "    STIS spectra\n",
    "\n",
    "DOI = ‘10.17909/T9DG6F’\n",
    "\n",
    "EQUINOX =’2000.2’ or RADESYS = 'ICRS'\n",
    "\n",
    "HLSPID =’MUSCLES’\n",
    "\n",
    "HLSPVER=’V1’\n",
    "\n",
    "LICENSE =’CC BY 4.0’\n",
    "\n",
    "LICENSURL= 'https://creativecommons.org/licenses/by/4.0/'\n",
    "\n",
    "TIMESYS: Character string code (see FITS Standard) for the time scale of time-related keywords. Ex: 'UTC'\n",
    "\n",
    " \n",
    "\n",
    "    Model spectra\n",
    "\n",
    "The same set of metadata is required as STIS data except for EQUINOX/RADESYS and TIMESYS.\n",
    "\n",
    " \n",
    "\n",
    "    SED data \n",
    "\n",
    "The same set of metadata is required as STIS data except for OBSERVAT.\n",
    "\n",
    "MJD-BEG and MJD-END in the primary header. (* see below)\n",
    "\n",
    " \n",
    "\n",
    "    XMM data\n",
    "\n",
    "The same set of metadata is required as STIS data.\n",
    "\n",
    "RA_TARG and DEC_TARG values are missing. Please include the correct RA/Dec values."
   ]
  },
  {
   "cell_type": "code",
   "execution_count": 6,
   "id": "5a6afe22-d187-4070-b5ce-395364b4ddaa",
   "metadata": {},
   "outputs": [
    {
     "name": "stdout",
     "output_type": "stream",
     "text": [
      "['toi-836' 'hd120411' 'hd80606' 'toi-178' 'wasp-166' 'k2-18' 'gj_4102'\n",
      " 'kepler-51' 'k2-141' 'kappa1_ceti' 'wasp-63' 'toi-402' 'toi-776'\n",
      " 'toi-260' 'gj_341' 'tau_ceti' 'toi-421' 'gj_367' 'toi-134' 'wasp-121']\n",
      "20\n"
     ]
    }
   ],
   "source": [
    "stars = os.listdir('draft_hlsp/')\n",
    "# print(stars)\n",
    "stars = np.array(stars)\n",
    "mask = stars != '.ipynb_checkpoints'\n",
    "# print(mask)\n",
    "stars = stars[mask]\n",
    "print(stars)\n",
    "print(len(stars))"
   ]
  },
  {
   "cell_type": "code",
   "execution_count": 7,
   "id": "831d1ac0-f418-4bc7-8f80-662cbac45a50",
   "metadata": {},
   "outputs": [
    {
     "data": {
      "text/html": [
       "<div><i>Table length=20</i>\n",
       "<table id=\"table129485323471568\" class=\"table-striped table-bordered table-condensed\">\n",
       "<thead><tr><th>MAIN_ID</th><th>RA</th><th>DEC</th><th>RA_PREC</th><th>DEC_PREC</th><th>COO_ERR_MAJA</th><th>COO_ERR_MINA</th><th>COO_ERR_ANGLE</th><th>COO_QUAL</th><th>COO_WAVELENGTH</th><th>COO_BIBCODE</th><th>SCRIPT_NUMBER_ID</th></tr></thead>\n",
       "<thead><tr><th></th><th>&quot;h:m:s&quot;</th><th>&quot;d:m:s&quot;</th><th></th><th></th><th>mas</th><th>mas</th><th>deg</th><th></th><th></th><th></th><th></th></tr></thead>\n",
       "<thead><tr><th>object</th><th>str13</th><th>str13</th><th>int16</th><th>int16</th><th>float32</th><th>float32</th><th>int16</th><th>str1</th><th>str1</th><th>object</th><th>int32</th></tr></thead>\n",
       "<tr><td>CD-23 12010</td><td>15 00 19.3983</td><td>-24 27 14.693</td><td>14</td><td>14</td><td>0.014</td><td>0.013</td><td>90</td><td>A</td><td>O</td><td>2020yCat.1350....0G</td><td>1</td></tr>\n",
       "<tr><td>HD 120411</td><td>13 50 06.2797</td><td>-40 50 08.881</td><td>14</td><td>14</td><td>0.014</td><td>0.018</td><td>90</td><td>A</td><td>O</td><td>2020yCat.1350....0G</td><td>2</td></tr>\n",
       "<tr><td>HD  80606</td><td>09 22 37.5768</td><td>+50 36 13.435</td><td>14</td><td>14</td><td>0.013</td><td>0.011</td><td>90</td><td>A</td><td>O</td><td>2020yCat.1350....0G</td><td>3</td></tr>\n",
       "<tr><td>WT 2353</td><td>00 29 12.3029</td><td>-30 27 13.466</td><td>14</td><td>14</td><td>0.023</td><td>0.016</td><td>90</td><td>A</td><td>O</td><td>2020yCat.1350....0G</td><td>4</td></tr>\n",
       "<tr><td>BD-20  2976</td><td>09 39 30.0861</td><td>-20 58 56.881</td><td>14</td><td>14</td><td>0.013</td><td>0.011</td><td>90</td><td>A</td><td>O</td><td>2020yCat.1350....0G</td><td>5</td></tr>\n",
       "<tr><td>K2-18</td><td>11 30 14.5177</td><td>+07 35 18.255</td><td>14</td><td>14</td><td>0.022</td><td>0.020</td><td>90</td><td>A</td><td>O</td><td>2020yCat.1350....0G</td><td>6</td></tr>\n",
       "<tr><td>L   22-69</td><td>19 20 54.3761</td><td>-82 33 16.167</td><td>14</td><td>14</td><td>0.016</td><td>0.017</td><td>90</td><td>A</td><td>O</td><td>2020yCat.1350....0G</td><td>7</td></tr>\n",
       "<tr><td>Kepler-51</td><td>19 45 55.1428</td><td>+49 56 15.650</td><td>14</td><td>14</td><td>0.016</td><td>0.015</td><td>90</td><td>A</td><td>O</td><td>2020yCat.1350....0G</td><td>8</td></tr>\n",
       "<tr><td>StKM 1-2122</td><td>23 23 39.9709</td><td>-01 11 21.448</td><td>14</td><td>14</td><td>0.016</td><td>0.013</td><td>90</td><td>A</td><td>O</td><td>2020yCat.1350....0G</td><td>9</td></tr>\n",
       "<tr><td>* kap01 Cet</td><td>03 19 21.6964</td><td>+03 22 12.714</td><td>14</td><td>14</td><td>0.152</td><td>0.101</td><td>90</td><td>A</td><td>O</td><td>2020yCat.1350....0G</td><td>10</td></tr>\n",
       "<tr><td>CD-38  2551</td><td>06 17 20.7484</td><td>-38 19 23.754</td><td>14</td><td>14</td><td>0.010</td><td>0.010</td><td>90</td><td>A</td><td>O</td><td>2020yCat.1350....0G</td><td>11</td></tr>\n",
       "<tr><td>HD  15337</td><td>02 27 28.3781</td><td>-27 38 06.736</td><td>14</td><td>14</td><td>0.009</td><td>0.012</td><td>90</td><td>A</td><td>O</td><td>2020yCat.1350....0G</td><td>12</td></tr>\n",
       "<tr><td>LP  961-53</td><td>11 54 18.3921</td><td>-37 33 09.837</td><td>14</td><td>14</td><td>0.013</td><td>0.010</td><td>90</td><td>A</td><td>O</td><td>2020yCat.1350....0G</td><td>13</td></tr>\n",
       "<tr><td>BD-10    47</td><td>00 19 05.5623</td><td>-09 57 53.468</td><td>14</td><td>14</td><td>0.016</td><td>0.011</td><td>90</td><td>A</td><td>O</td><td>2020yCat.1350....0G</td><td>14</td></tr>\n",
       "<tr><td>HD 304636</td><td>09 21 37.6015</td><td>-60 16 55.030</td><td>14</td><td>14</td><td>0.013</td><td>0.014</td><td>90</td><td>A</td><td>O</td><td>2020yCat.1350....0G</td><td>15</td></tr>\n",
       "<tr><td>* tau Cet</td><td>01 44 04.0831</td><td>-15 56 14.927</td><td>14</td><td>14</td><td>0.119</td><td>0.083</td><td>90</td><td>A</td><td>O</td><td>2020yCat.1350....0G</td><td>16</td></tr>\n",
       "<tr><td>BD-14  1137</td><td>05 27 24.8258</td><td>-14 16 37.046</td><td>14</td><td>14</td><td>0.008</td><td>0.008</td><td>90</td><td>A</td><td>O</td><td>2020yCat.1350....0G</td><td>17</td></tr>\n",
       "<tr><td>CD-45  5378</td><td>09 44 29.8367</td><td>-45 46 35.427</td><td>14</td><td>14</td><td>0.011</td><td>0.012</td><td>90</td><td>A</td><td>O</td><td>2020yCat.1350....0G</td><td>18</td></tr>\n",
       "<tr><td>CD-60  8051</td><td>23 20 07.5245</td><td>-60 03 54.644</td><td>14</td><td>14</td><td>0.017</td><td>0.018</td><td>90</td><td>A</td><td>O</td><td>2020yCat.1350....0G</td><td>19</td></tr>\n",
       "<tr><td>CD-38  3220</td><td>07 10 24.0604</td><td>-39 05 50.571</td><td>14</td><td>14</td><td>0.009</td><td>0.010</td><td>90</td><td>A</td><td>O</td><td>2020yCat.1350....0G</td><td>20</td></tr>\n",
       "</table></div>"
      ],
      "text/plain": [
       "<Table length=20>\n",
       "  MAIN_ID         RA           DEC      ...     COO_BIBCODE     SCRIPT_NUMBER_ID\n",
       "               \"h:m:s\"       \"d:m:s\"    ...                                     \n",
       "   object       str13         str13     ...        object            int32      \n",
       "----------- ------------- ------------- ... ------------------- ----------------\n",
       "CD-23 12010 15 00 19.3983 -24 27 14.693 ... 2020yCat.1350....0G                1\n",
       "  HD 120411 13 50 06.2797 -40 50 08.881 ... 2020yCat.1350....0G                2\n",
       "  HD  80606 09 22 37.5768 +50 36 13.435 ... 2020yCat.1350....0G                3\n",
       "    WT 2353 00 29 12.3029 -30 27 13.466 ... 2020yCat.1350....0G                4\n",
       "BD-20  2976 09 39 30.0861 -20 58 56.881 ... 2020yCat.1350....0G                5\n",
       "      K2-18 11 30 14.5177 +07 35 18.255 ... 2020yCat.1350....0G                6\n",
       "  L   22-69 19 20 54.3761 -82 33 16.167 ... 2020yCat.1350....0G                7\n",
       "  Kepler-51 19 45 55.1428 +49 56 15.650 ... 2020yCat.1350....0G                8\n",
       "StKM 1-2122 23 23 39.9709 -01 11 21.448 ... 2020yCat.1350....0G                9\n",
       "* kap01 Cet 03 19 21.6964 +03 22 12.714 ... 2020yCat.1350....0G               10\n",
       "CD-38  2551 06 17 20.7484 -38 19 23.754 ... 2020yCat.1350....0G               11\n",
       "  HD  15337 02 27 28.3781 -27 38 06.736 ... 2020yCat.1350....0G               12\n",
       " LP  961-53 11 54 18.3921 -37 33 09.837 ... 2020yCat.1350....0G               13\n",
       "BD-10    47 00 19 05.5623 -09 57 53.468 ... 2020yCat.1350....0G               14\n",
       "  HD 304636 09 21 37.6015 -60 16 55.030 ... 2020yCat.1350....0G               15\n",
       "  * tau Cet 01 44 04.0831 -15 56 14.927 ... 2020yCat.1350....0G               16\n",
       "BD-14  1137 05 27 24.8258 -14 16 37.046 ... 2020yCat.1350....0G               17\n",
       "CD-45  5378 09 44 29.8367 -45 46 35.427 ... 2020yCat.1350....0G               18\n",
       "CD-60  8051 23 20 07.5245 -60 03 54.644 ... 2020yCat.1350....0G               19\n",
       "CD-38  3220 07 10 24.0604 -39 05 50.571 ... 2020yCat.1350....0G               20"
      ]
     },
     "execution_count": 7,
     "metadata": {},
     "output_type": "execute_result"
    }
   ],
   "source": [
    "star_list = Simbad.query_objects(stars)\n",
    "star_list"
   ]
  },
  {
   "cell_type": "code",
   "execution_count": null,
   "id": "b3592fd4-480c-4d64-bd10-d9fac013a77a",
   "metadata": {},
   "outputs": [],
   "source": [
    "\n"
   ]
  },
  {
   "cell_type": "code",
   "execution_count": 8,
   "id": "d659ef68-4f05-4b7e-b947-a298becbf00d",
   "metadata": {},
   "outputs": [
    {
     "name": "stdout",
     "output_type": "stream",
     "text": [
      "toi-836\n"
     ]
    },
    {
     "ename": "NameError",
     "evalue": "name 'coords' is not defined",
     "output_type": "error",
     "traceback": [
      "\u001b[0;31m---------------------------------------------------------------------------\u001b[0m",
      "\u001b[0;31mNameError\u001b[0m                                 Traceback (most recent call last)",
      "Cell \u001b[0;32mIn[8], line 98\u001b[0m\n\u001b[1;32m     96\u001b[0m     starname \u001b[38;5;241m=\u001b[39m \u001b[38;5;124m'\u001b[39m\u001b[38;5;124m*kap01 Cet\u001b[39m\u001b[38;5;124m'\u001b[39m\n\u001b[1;32m     97\u001b[0m simtab \u001b[38;5;241m=\u001b[39m Simbad\u001b[38;5;241m.\u001b[39mquery_object(starname)\n\u001b[0;32m---> 98\u001b[0m hdr[\u001b[38;5;124m'\u001b[39m\u001b[38;5;124mRA_TARG\u001b[39m\u001b[38;5;124m'\u001b[39m] \u001b[38;5;241m=\u001b[39m \u001b[43mcoords\u001b[49m\u001b[38;5;241m.\u001b[39mra\u001b[38;5;241m.\u001b[39mdeg\n\u001b[1;32m     99\u001b[0m hdr[\u001b[38;5;124m'\u001b[39m\u001b[38;5;124mDEC_TARG\u001b[39m\u001b[38;5;124m'\u001b[39m] \u001b[38;5;241m=\u001b[39m coords\u001b[38;5;241m.\u001b[39mdec\u001b[38;5;241m.\u001b[39mdeg\n\u001b[1;32m    102\u001b[0m savepath \u001b[38;5;241m=\u001b[39m \u001b[38;5;124m'\u001b[39m\u001b[38;5;132;01m{}\u001b[39;00m\u001b[38;5;132;01m{}\u001b[39;00m\u001b[38;5;124m/\u001b[39m\u001b[38;5;132;01m{}\u001b[39;00m\u001b[38;5;124m'\u001b[39m\u001b[38;5;241m.\u001b[39mformat(newpath, star, new_name)\n",
      "\u001b[0;31mNameError\u001b[0m: name 'coords' is not defined"
     ]
    }
   ],
   "source": [
    "\n",
    "newpath = 'fixed_hlsp/'\n",
    "for star in stars:\n",
    "    print(star)\n",
    "    newdir = '{}{}'.format(newpath, star)\n",
    "    if not os.path.exists(newdir):\n",
    "       os.makedirs(newdir)\n",
    "    \n",
    "    oldv = 1\n",
    "    if star == 'wasp-63':\n",
    "        oldv = 2\n",
    "    starpath = 'draft_hlsp/{}/'.format(star)\n",
    "    specs = np.hstack((glob.glob('{}*stis*.fits'.format(starpath)),glob.glob('{}*cos*.fits'.format(starpath))))\n",
    "    mods = glob.glob('{}*mod*.fits'.format(starpath))\n",
    "    seds = glob.glob('{}*multi*.fits'.format(starpath))\n",
    "    xrays = np.hstack((glob.glob('{}*cxo*.fits'.format(starpath)),glob.glob('{}*xmm*.fits'.format(starpath))))\n",
    "\n",
    "    # print(specs)\n",
    "    # print(mods)\n",
    "    # print(seds)\n",
    "    # print(xrays)\n",
    "    \n",
    "    \n",
    "    starts = []\n",
    "    ends = []\n",
    "\n",
    "    for spec in specs:\n",
    "        hdul = fits.open(spec)\n",
    "        hdr = hdul[0].header\n",
    "        ra, dec = hdr['RA_TARG'], hdr['DEC_TARG']\n",
    "        starts.append(hdr['EXPSTART'])\n",
    "        ends.append(hdr['EXPEND'])\n",
    "        hdr.append(('DOI', '10.17909/T9DG6F'))\n",
    "        hdr.append(('RADESYS' , 'ICRS'))\n",
    "        hdr.append(('TIMESYS', 'UTC'))\n",
    "        hdr.append(('HLSPVER', 'V{}'.format(version)))\n",
    "        hdr.append(('HSLPID', 'MUSCLES'))\n",
    "        hdr.append(('LICENSE','CC BY 4.0'))\n",
    "        hdr.append(('LICENURL', 'https://creativecommons.org/licenses/by/4.0/'))\n",
    "        new_name = (os.path.split(spec)[1]).replace('v{}'.format(oldv), 'v{}'.format(version))\n",
    "        savepath = '{}{}/{}'.format(newpath, star, new_name)\n",
    "        hdul.writeto(savepath, overwrite=True)\n",
    "    \n",
    "    for spec in mods:\n",
    "        hdul = fits.open(spec)\n",
    "        hdr = hdul[0].header\n",
    "        hdr.append(('DOI', '10.17909/T9DG6F'))\n",
    "        hdr.append(('HLSPVER', 'V{}'.format(version)))\n",
    "        hdr.append(('HSLPID', 'MUSCLES'))\n",
    "        hdr.append(('LICENSE','CC BY 4.0'))\n",
    "        hdr.append(('LICENURL', 'https://creativecommons.org/licenses/by/4.0/'))\n",
    "        new_name = (os.path.split(spec)[1]).replace('v{}'.format(oldv), 'v{}'.format(version))\n",
    "        savepath = '{}{}/{}'.format(newpath, star, new_name)\n",
    "        hdul.writeto(savepath, overwrite=True)\n",
    "    \n",
    "    for spec in xrays:\n",
    "        hdul = fits.open(spec)\n",
    "        hdr = hdul[0].header\n",
    "        starts.append(hdr['EXPSTART'])\n",
    "        ends.append(hdr['EXPEND'])\n",
    "        hdr.append(('RA_TARG', ra))\n",
    "        hdr.append(('DEC_TARG', dec))\n",
    "        hdr.append(('DOI', '10.17909/T9DG6F'))\n",
    "        hdr.append(('RADESYS' , 'ICRS'))\n",
    "        hdr.append(('TIMESYS', 'UTC'))\n",
    "        hdr.append(('HLSPVER', 'V{}'.format(version)))\n",
    "        hdr.append(('HSLPID', 'MUSCLES'))\n",
    "        hdr.append(('LICENSE','CC BY 4.0'))\n",
    "        hdr.append(('LICENURL', 'https://creativecommons.org/licenses/by/4.0/'))\n",
    "        new_name = (os.path.split(spec)[1]).replace('v{}'.format(oldv), 'v{}'.format(version))\n",
    "        savepath = '{}{}/{}'.format(newpath, star, new_name)\n",
    "        hdul.writeto(savepath, overwrite=True)\n",
    "    \n",
    "    start = np.min(starts)\n",
    "    end = np.max(ends)\n",
    "    \n",
    "    for spec in seds:\n",
    "        hdul = fits.open(spec)\n",
    "        hdr = hdul[0].header\n",
    "        hdr.append(('MJD-BEG', start))\n",
    "        hdr.append(('MJD-END', end))\n",
    "        hdr.append(('DOI', '10.17909/T9DG6F'))\n",
    "        hdr.append(('RADESYS' , 'ICRS'))\n",
    "        hdr.append(('TIMESYS', 'UTC'))\n",
    "        hdr.append(('HLSPVER', 'V{}'.format(version)))\n",
    "        hdr.append(('HSLPID', 'MUSCLES'))\n",
    "        hdr.append(('LICENSE','CC BY 4.0'))\n",
    "        hdr.append(('LICENURL', 'https://creativecommons.org/licenses/by/4.0/'))\n",
    "        new_name = (os.path.split(spec)[1]).replace('v{}'.format(oldv), 'v{}'.format(version))\n",
    "        for i in hdr:\n",
    "            if hdr[i] in ['mod', 'Mod', 'MOD']:\n",
    "                hdr[i] = 'MODEL'\n",
    "        starname = hdr['TARGNAME']\n",
    "        if starname[0:2].upper() == 'HD':\n",
    "            starname = starname.replace('-', ' ')\n",
    "        elif starname == 'kap1Cet':\n",
    "            starname = '*kap01 Cet'\n",
    "        simtab = Simbad.query_object(starname)\n",
    "        coords = SkyCoord(simtab['RA'][0], simtab['DEC'][0], unit=(u.hourangle, u.deg))\n",
    "\n",
    "        hdr['RA_TARG'] = coords.ra.deg\n",
    "        hdr['DEC_TARG'] = coords.dec.deg\n",
    "        \n",
    "      \n",
    "        savepath = '{}{}/{}'.format(newpath, star, new_name)\n",
    "        hdul.writeto(savepath, overwrite=True)\n"
   ]
  },
  {
   "cell_type": "code",
   "execution_count": null,
   "id": "f7cf44c8-9c08-464c-a583-093e73368888",
   "metadata": {},
   "outputs": [],
   "source": [
    "146-66"
   ]
  },
  {
   "cell_type": "code",
   "execution_count": null,
   "id": "30a2c549-7597-4c12-8cf3-58a52928162f",
   "metadata": {},
   "outputs": [],
   "source": [
    "Simbad.query_objects(stars)"
   ]
  },
  {
   "cell_type": "code",
   "execution_count": null,
   "id": "3a035513-4982-4804-b0a6-77faf0d32fa1",
   "metadata": {},
   "outputs": [],
   "source": [
    "len(stars)"
   ]
  },
  {
   "cell_type": "code",
   "execution_count": null,
   "id": "97366c32-1536-4a35-84eb-ebb987ab3f9b",
   "metadata": {},
   "outputs": [],
   "source": [
    "for i in hdr:\n",
    "    if hdr[i] in ['mod', 'Mod', 'MOD']:\n",
    "        print (i, hdr[i])\n",
    "        hdr[i] = 'MODEL'\n",
    "        print (i, hdr[i])"
   ]
  },
  {
   "cell_type": "code",
   "execution_count": null,
   "id": "67d2250a-085a-449f-88ea-904102376770",
   "metadata": {},
   "outputs": [],
   "source": [
    "hdr"
   ]
  },
  {
   "cell_type": "code",
   "execution_count": null,
   "id": "8d76e4ab-771c-4be1-b2b1-9e00ad5e0b33",
   "metadata": {},
   "outputs": [],
   "source": [
    "c = SkyCoord(star_list['RA'][-1], star_list['DEC'][-1], unit=(u.hourangle, u.deg))\n",
    "c"
   ]
  },
  {
   "cell_type": "code",
   "execution_count": null,
   "id": "9a85fd41-4519-48fc-8e7e-19f3eb158b76",
   "metadata": {},
   "outputs": [],
   "source": [
    "c.dec.deg\n"
   ]
  },
  {
   "cell_type": "code",
   "execution_count": null,
   "id": "007980c9-ce40-4ebc-b6ee-d1e4da61dc64",
   "metadata": {},
   "outputs": [],
   "source": [
    "for star in stars:\n",
    "    print(star)\n",
    "    starpath = 'draft_hlsp/{}/'.format(star)\n",
    "    seds = glob.glob('{}*multi*.fits'.format(starpath))\n",
    "    for sed in seds:\n",
    "        hdul = fits.open(sed)\n",
    "        hdr = hdul[0].header\n",
    "        starname = hdr['TARGNAME']\n",
    "        print(starname)\n",
    "        if starname[0:2].upper() == 'HD':\n",
    "            starname = starname.replace('-', ' ')\n",
    "        elif starname == 'kap1Cet':\n",
    "            starname = '*kap01 Cet'\n",
    "        simtab = Simbad.query_object(starname)\n",
    "        coords = SkyCoord(simtab['RA'][0], simtab['DEC'][0], unit=(u.hourangle, u.deg))\n",
    "        print(coords.ra.deg, coords.dec.deg)\n",
    "        print(hdr['RA_TARG'], hdr['DEC_TARG'])\n",
    "        # print(startab)"
   ]
  },
  {
   "cell_type": "code",
   "execution_count": null,
   "id": "6f680c87-0b13-4cb0-a232-6ce36cf5593d",
   "metadata": {},
   "outputs": [],
   "source": [
    "simtab"
   ]
  },
  {
   "cell_type": "code",
   "execution_count": null,
   "id": "f3d13618-89a7-4b4b-a5ae-dba82eff66ef",
   "metadata": {},
   "outputs": [],
   "source": [
    "Simbad.query_object('TOI-134')"
   ]
  },
  {
   "cell_type": "code",
   "execution_count": null,
   "id": "ba1130a6-685c-4d33-8b3f-edb1b9054455",
   "metadata": {},
   "outputs": [],
   "source": []
  }
 ],
 "metadata": {
  "kernelspec": {
   "display_name": "Python 3 (ipykernel)",
   "language": "python",
   "name": "python3"
  },
  "language_info": {
   "codemirror_mode": {
    "name": "ipython",
    "version": 3
   },
   "file_extension": ".py",
   "mimetype": "text/x-python",
   "name": "python",
   "nbconvert_exporter": "python",
   "pygments_lexer": "ipython3",
   "version": "3.11.9"
  }
 },
 "nbformat": 4,
 "nbformat_minor": 5
}
